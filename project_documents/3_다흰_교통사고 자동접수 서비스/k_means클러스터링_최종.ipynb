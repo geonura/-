{
  "nbformat": 4,
  "nbformat_minor": 0,
  "metadata": {
    "colab": {
      "provenance": [],
      "toc_visible": true
    },
    "kernelspec": {
      "name": "python3",
      "display_name": "Python 3"
    },
    "language_info": {
      "name": "python"
    }
  },
  "cells": [
    {
      "cell_type": "markdown",
      "source": [
        "# 1. 데이터 분석\n",
        "why? 처음 클러스터 분석으로는 명확히 고객유형 분류가 어려워서 다시 클러스터링 후 분석"
      ],
      "metadata": {
        "id": "qIAu7Fb7oQFt"
      }
    },
    {
      "cell_type": "code",
      "source": [
        "import pandas as pd\n",
        "import numpy as np\n",
        "\n",
        "from sklearn.cluster import KMeans\n",
        "from sklearn.preprocessing import StandardScaler\n",
        "\n",
        "import matplotlib.pyplot as plt\n",
        "import seaborn as sns"
      ],
      "metadata": {
        "id": "RmtIqnKTof_1"
      },
      "execution_count": null,
      "outputs": []
    },
    {
      "cell_type": "code",
      "source": [
        "# 구글 드라이브 연결\n",
        "from google.colab import drive\n",
        "drive.mount('/content/drive')"
      ],
      "metadata": {
        "colab": {
          "base_uri": "https://localhost:8080/"
        },
        "id": "AaFPC-gnZk4_",
        "outputId": "1073947f-5811-42ab-e2cd-8205555101fa"
      },
      "execution_count": null,
      "outputs": [
        {
          "output_type": "stream",
          "name": "stdout",
          "text": [
            "Drive already mounted at /content/drive; to attempt to forcibly remount, call drive.mount(\"/content/drive\", force_remount=True).\n"
          ]
        }
      ]
    },
    {
      "cell_type": "code",
      "source": [
        "# csv 불러오기\n",
        "df = pd.read_csv(\"/content/drive/MyDrive/미래내일 일경험 프로젝트/기획 프로젝트/DATA/customer_data_.csv\", encoding=\"cp949\")"
      ],
      "metadata": {
        "id": "CPUuw2jjFpeg"
      },
      "execution_count": null,
      "outputs": []
    },
    {
      "cell_type": "code",
      "source": [
        "# 결측치 확인\n",
        "df.isnull().sum()"
      ],
      "metadata": {
        "colab": {
          "base_uri": "https://localhost:8080/"
        },
        "id": "bn_VpAFBX5Jo",
        "outputId": "2a6a665a-9d0e-4948-97ab-4a8d37c25e69"
      },
      "execution_count": null,
      "outputs": [
        {
          "output_type": "execute_result",
          "data": {
            "text/plain": [
              "clust                      0\n",
              "AGE                        0\n",
              "등록(계/피)                    0\n",
              "고용상태                       0\n",
              "성별                         0\n",
              "Willingness to pay/Stay    0\n",
              "갱신                         0\n",
              "상품타입                       0\n",
              "교육수준                       0\n",
              "소득                         0\n",
              "지역                         0\n",
              "결혼여부                       0\n",
              "월 납입액                      0\n",
              "VOC                        0\n",
              "타 상품 보유 현황                 0\n",
              "온라인방문빈도                    0\n",
              "갱신인센티브                     0\n",
              "판매채널                       0\n",
              "총지불금액                      0\n",
              "자동차                        0\n",
              "거주지사이즈                     0\n",
              "dtype: int64"
            ]
          },
          "metadata": {},
          "execution_count": 204
        }
      ]
    },
    {
      "cell_type": "code",
      "source": [
        "# 데이터 정보 확인\n",
        "df.info()"
      ],
      "metadata": {
        "colab": {
          "base_uri": "https://localhost:8080/"
        },
        "id": "5wXszUsTa8WE",
        "outputId": "04a19505-022a-47c8-cdde-cc2df9b9b15e"
      },
      "execution_count": null,
      "outputs": [
        {
          "output_type": "stream",
          "name": "stdout",
          "text": [
            "<class 'pandas.core.frame.DataFrame'>\n",
            "RangeIndex: 12000 entries, 0 to 11999\n",
            "Data columns (total 21 columns):\n",
            " #   Column                   Non-Null Count  Dtype  \n",
            "---  ------                   --------------  -----  \n",
            " 0   clust                    12000 non-null  int64  \n",
            " 1   AGE                      12000 non-null  int64  \n",
            " 2   등록(계/피)                  12000 non-null  object \n",
            " 3   고용상태                     12000 non-null  object \n",
            " 4   성별                       12000 non-null  int64  \n",
            " 5   Willingness to pay/Stay  12000 non-null  float64\n",
            " 6   갱신                       12000 non-null  int64  \n",
            " 7   상품타입                     12000 non-null  object \n",
            " 8   교육수준                     12000 non-null  object \n",
            " 9   소득                       12000 non-null  int64  \n",
            " 10  지역                       12000 non-null  object \n",
            " 11  결혼여부                     12000 non-null  object \n",
            " 12  월 납입액                    12000 non-null  int64  \n",
            " 13  VOC                      12000 non-null  int64  \n",
            " 14  타 상품 보유 현황               12000 non-null  object \n",
            " 15  온라인방문빈도                  12000 non-null  object \n",
            " 16  갱신인센티브                   12000 non-null  object \n",
            " 17  판매채널                     12000 non-null  object \n",
            " 18  총지불금액                    12000 non-null  int64  \n",
            " 19  자동차                      12000 non-null  object \n",
            " 20  거주지사이즈                   12000 non-null  object \n",
            "dtypes: float64(1), int64(8), object(12)\n",
            "memory usage: 1.9+ MB\n"
          ]
        }
      ]
    },
    {
      "cell_type": "code",
      "source": [
        "# One-hot encoding\n",
        "data1 = df[['AGE', '등록(계/피)', '고용상태', '성별', '갱신', '상품타입', '교육수준', '지역', '결혼여부', '타 상품 보유 현황', '온라인방문빈도', '갱신인센티브', '판매채널', '자동차', '거주지사이즈']]\n",
        "\n",
        "one_hot_df = pd.get_dummies(data1)\n",
        "one_hot_df"
      ],
      "metadata": {
        "colab": {
          "base_uri": "https://localhost:8080/",
          "height": 476
        },
        "id": "172Q_m4saIZO",
        "outputId": "ddda7c44-733a-4e84-b994-a556019801d1"
      },
      "execution_count": null,
      "outputs": [
        {
          "output_type": "execute_result",
          "data": {
            "text/plain": [
              "       AGE  성별  갱신  등록(계/피)_계약자  등록(계/피)_피보험자  고용상태_FALSE  고용상태_고용  고용상태_무직  \\\n",
              "0        3   1   0            0             1           0        0        1   \n",
              "1        1   0   0            1             0           0        1        0   \n",
              "2        2   0   0            1             0           0        0        0   \n",
              "3        5   1   0            1             0           0        1        0   \n",
              "4        4   0   0            1             0           0        1        0   \n",
              "...    ...  ..  ..          ...           ...         ...      ...      ...   \n",
              "11995    1   1   0            1             0           0        1        0   \n",
              "11996    3   0   1            0             1           0        1        0   \n",
              "11997    3   1   0            0             1           0        0        1   \n",
              "11998    4   1   0            1             0           0        1        0   \n",
              "11999    3   1   0            0             1           0        0        1   \n",
              "\n",
              "       고용상태_휴직  상품타입_고급  ...  판매채널_자사영업  판매채널_콜센터  자동차_SUV  자동차_고급차  자동차_스포츠카  \\\n",
              "0            0        0  ...          1         0        0        0         0   \n",
              "1            0        0  ...          0         0        0        0         0   \n",
              "2            1        0  ...          1         0        0        0         0   \n",
              "3            0        1  ...          1         0        0        0         0   \n",
              "4            0        0  ...          0         0        1        0         0   \n",
              "...        ...      ...  ...        ...       ...      ...      ...       ...   \n",
              "11995        0        0  ...          0         0        0        0         0   \n",
              "11996        0        0  ...          1         0        0        0         0   \n",
              "11997        0        0  ...          1         0        0        0         0   \n",
              "11998        0        0  ...          1         0        0        0         0   \n",
              "11999        0        0  ...          0         1        0        0         0   \n",
              "\n",
              "       자동차_일반세단  자동차_컴팩트카  거주지사이즈_대  거주지사이즈_소  거주지사이즈_중  \n",
              "0             1         0         0         1         0  \n",
              "1             1         0         0         0         1  \n",
              "2             1         0         0         0         1  \n",
              "3             0         1         1         0         0  \n",
              "4             0         0         0         0         1  \n",
              "...         ...       ...       ...       ...       ...  \n",
              "11995         1         0         0         0         1  \n",
              "11996         1         0         0         0         1  \n",
              "11997         1         0         0         0         1  \n",
              "11998         1         0         1         0         0  \n",
              "11999         0         1         0         0         1  \n",
              "\n",
              "[12000 rows x 44 columns]"
            ],
            "text/html": [
              "\n",
              "  <div id=\"df-dde9158b-d17c-4767-8383-fb6e8ae04a93\" class=\"colab-df-container\">\n",
              "    <div>\n",
              "<style scoped>\n",
              "    .dataframe tbody tr th:only-of-type {\n",
              "        vertical-align: middle;\n",
              "    }\n",
              "\n",
              "    .dataframe tbody tr th {\n",
              "        vertical-align: top;\n",
              "    }\n",
              "\n",
              "    .dataframe thead th {\n",
              "        text-align: right;\n",
              "    }\n",
              "</style>\n",
              "<table border=\"1\" class=\"dataframe\">\n",
              "  <thead>\n",
              "    <tr style=\"text-align: right;\">\n",
              "      <th></th>\n",
              "      <th>AGE</th>\n",
              "      <th>성별</th>\n",
              "      <th>갱신</th>\n",
              "      <th>등록(계/피)_계약자</th>\n",
              "      <th>등록(계/피)_피보험자</th>\n",
              "      <th>고용상태_FALSE</th>\n",
              "      <th>고용상태_고용</th>\n",
              "      <th>고용상태_무직</th>\n",
              "      <th>고용상태_휴직</th>\n",
              "      <th>상품타입_고급</th>\n",
              "      <th>...</th>\n",
              "      <th>판매채널_자사영업</th>\n",
              "      <th>판매채널_콜센터</th>\n",
              "      <th>자동차_SUV</th>\n",
              "      <th>자동차_고급차</th>\n",
              "      <th>자동차_스포츠카</th>\n",
              "      <th>자동차_일반세단</th>\n",
              "      <th>자동차_컴팩트카</th>\n",
              "      <th>거주지사이즈_대</th>\n",
              "      <th>거주지사이즈_소</th>\n",
              "      <th>거주지사이즈_중</th>\n",
              "    </tr>\n",
              "  </thead>\n",
              "  <tbody>\n",
              "    <tr>\n",
              "      <th>0</th>\n",
              "      <td>3</td>\n",
              "      <td>1</td>\n",
              "      <td>0</td>\n",
              "      <td>0</td>\n",
              "      <td>1</td>\n",
              "      <td>0</td>\n",
              "      <td>0</td>\n",
              "      <td>1</td>\n",
              "      <td>0</td>\n",
              "      <td>0</td>\n",
              "      <td>...</td>\n",
              "      <td>1</td>\n",
              "      <td>0</td>\n",
              "      <td>0</td>\n",
              "      <td>0</td>\n",
              "      <td>0</td>\n",
              "      <td>1</td>\n",
              "      <td>0</td>\n",
              "      <td>0</td>\n",
              "      <td>1</td>\n",
              "      <td>0</td>\n",
              "    </tr>\n",
              "    <tr>\n",
              "      <th>1</th>\n",
              "      <td>1</td>\n",
              "      <td>0</td>\n",
              "      <td>0</td>\n",
              "      <td>1</td>\n",
              "      <td>0</td>\n",
              "      <td>0</td>\n",
              "      <td>1</td>\n",
              "      <td>0</td>\n",
              "      <td>0</td>\n",
              "      <td>0</td>\n",
              "      <td>...</td>\n",
              "      <td>0</td>\n",
              "      <td>0</td>\n",
              "      <td>0</td>\n",
              "      <td>0</td>\n",
              "      <td>0</td>\n",
              "      <td>1</td>\n",
              "      <td>0</td>\n",
              "      <td>0</td>\n",
              "      <td>0</td>\n",
              "      <td>1</td>\n",
              "    </tr>\n",
              "    <tr>\n",
              "      <th>2</th>\n",
              "      <td>2</td>\n",
              "      <td>0</td>\n",
              "      <td>0</td>\n",
              "      <td>1</td>\n",
              "      <td>0</td>\n",
              "      <td>0</td>\n",
              "      <td>0</td>\n",
              "      <td>0</td>\n",
              "      <td>1</td>\n",
              "      <td>0</td>\n",
              "      <td>...</td>\n",
              "      <td>1</td>\n",
              "      <td>0</td>\n",
              "      <td>0</td>\n",
              "      <td>0</td>\n",
              "      <td>0</td>\n",
              "      <td>1</td>\n",
              "      <td>0</td>\n",
              "      <td>0</td>\n",
              "      <td>0</td>\n",
              "      <td>1</td>\n",
              "    </tr>\n",
              "    <tr>\n",
              "      <th>3</th>\n",
              "      <td>5</td>\n",
              "      <td>1</td>\n",
              "      <td>0</td>\n",
              "      <td>1</td>\n",
              "      <td>0</td>\n",
              "      <td>0</td>\n",
              "      <td>1</td>\n",
              "      <td>0</td>\n",
              "      <td>0</td>\n",
              "      <td>1</td>\n",
              "      <td>...</td>\n",
              "      <td>1</td>\n",
              "      <td>0</td>\n",
              "      <td>0</td>\n",
              "      <td>0</td>\n",
              "      <td>0</td>\n",
              "      <td>0</td>\n",
              "      <td>1</td>\n",
              "      <td>1</td>\n",
              "      <td>0</td>\n",
              "      <td>0</td>\n",
              "    </tr>\n",
              "    <tr>\n",
              "      <th>4</th>\n",
              "      <td>4</td>\n",
              "      <td>0</td>\n",
              "      <td>0</td>\n",
              "      <td>1</td>\n",
              "      <td>0</td>\n",
              "      <td>0</td>\n",
              "      <td>1</td>\n",
              "      <td>0</td>\n",
              "      <td>0</td>\n",
              "      <td>0</td>\n",
              "      <td>...</td>\n",
              "      <td>0</td>\n",
              "      <td>0</td>\n",
              "      <td>1</td>\n",
              "      <td>0</td>\n",
              "      <td>0</td>\n",
              "      <td>0</td>\n",
              "      <td>0</td>\n",
              "      <td>0</td>\n",
              "      <td>0</td>\n",
              "      <td>1</td>\n",
              "    </tr>\n",
              "    <tr>\n",
              "      <th>...</th>\n",
              "      <td>...</td>\n",
              "      <td>...</td>\n",
              "      <td>...</td>\n",
              "      <td>...</td>\n",
              "      <td>...</td>\n",
              "      <td>...</td>\n",
              "      <td>...</td>\n",
              "      <td>...</td>\n",
              "      <td>...</td>\n",
              "      <td>...</td>\n",
              "      <td>...</td>\n",
              "      <td>...</td>\n",
              "      <td>...</td>\n",
              "      <td>...</td>\n",
              "      <td>...</td>\n",
              "      <td>...</td>\n",
              "      <td>...</td>\n",
              "      <td>...</td>\n",
              "      <td>...</td>\n",
              "      <td>...</td>\n",
              "      <td>...</td>\n",
              "    </tr>\n",
              "    <tr>\n",
              "      <th>11995</th>\n",
              "      <td>1</td>\n",
              "      <td>1</td>\n",
              "      <td>0</td>\n",
              "      <td>1</td>\n",
              "      <td>0</td>\n",
              "      <td>0</td>\n",
              "      <td>1</td>\n",
              "      <td>0</td>\n",
              "      <td>0</td>\n",
              "      <td>0</td>\n",
              "      <td>...</td>\n",
              "      <td>0</td>\n",
              "      <td>0</td>\n",
              "      <td>0</td>\n",
              "      <td>0</td>\n",
              "      <td>0</td>\n",
              "      <td>1</td>\n",
              "      <td>0</td>\n",
              "      <td>0</td>\n",
              "      <td>0</td>\n",
              "      <td>1</td>\n",
              "    </tr>\n",
              "    <tr>\n",
              "      <th>11996</th>\n",
              "      <td>3</td>\n",
              "      <td>0</td>\n",
              "      <td>1</td>\n",
              "      <td>0</td>\n",
              "      <td>1</td>\n",
              "      <td>0</td>\n",
              "      <td>1</td>\n",
              "      <td>0</td>\n",
              "      <td>0</td>\n",
              "      <td>0</td>\n",
              "      <td>...</td>\n",
              "      <td>1</td>\n",
              "      <td>0</td>\n",
              "      <td>0</td>\n",
              "      <td>0</td>\n",
              "      <td>0</td>\n",
              "      <td>1</td>\n",
              "      <td>0</td>\n",
              "      <td>0</td>\n",
              "      <td>0</td>\n",
              "      <td>1</td>\n",
              "    </tr>\n",
              "    <tr>\n",
              "      <th>11997</th>\n",
              "      <td>3</td>\n",
              "      <td>1</td>\n",
              "      <td>0</td>\n",
              "      <td>0</td>\n",
              "      <td>1</td>\n",
              "      <td>0</td>\n",
              "      <td>0</td>\n",
              "      <td>1</td>\n",
              "      <td>0</td>\n",
              "      <td>0</td>\n",
              "      <td>...</td>\n",
              "      <td>1</td>\n",
              "      <td>0</td>\n",
              "      <td>0</td>\n",
              "      <td>0</td>\n",
              "      <td>0</td>\n",
              "      <td>1</td>\n",
              "      <td>0</td>\n",
              "      <td>0</td>\n",
              "      <td>0</td>\n",
              "      <td>1</td>\n",
              "    </tr>\n",
              "    <tr>\n",
              "      <th>11998</th>\n",
              "      <td>4</td>\n",
              "      <td>1</td>\n",
              "      <td>0</td>\n",
              "      <td>1</td>\n",
              "      <td>0</td>\n",
              "      <td>0</td>\n",
              "      <td>1</td>\n",
              "      <td>0</td>\n",
              "      <td>0</td>\n",
              "      <td>0</td>\n",
              "      <td>...</td>\n",
              "      <td>1</td>\n",
              "      <td>0</td>\n",
              "      <td>0</td>\n",
              "      <td>0</td>\n",
              "      <td>0</td>\n",
              "      <td>1</td>\n",
              "      <td>0</td>\n",
              "      <td>1</td>\n",
              "      <td>0</td>\n",
              "      <td>0</td>\n",
              "    </tr>\n",
              "    <tr>\n",
              "      <th>11999</th>\n",
              "      <td>3</td>\n",
              "      <td>1</td>\n",
              "      <td>0</td>\n",
              "      <td>0</td>\n",
              "      <td>1</td>\n",
              "      <td>0</td>\n",
              "      <td>0</td>\n",
              "      <td>1</td>\n",
              "      <td>0</td>\n",
              "      <td>0</td>\n",
              "      <td>...</td>\n",
              "      <td>0</td>\n",
              "      <td>1</td>\n",
              "      <td>0</td>\n",
              "      <td>0</td>\n",
              "      <td>0</td>\n",
              "      <td>0</td>\n",
              "      <td>1</td>\n",
              "      <td>0</td>\n",
              "      <td>0</td>\n",
              "      <td>1</td>\n",
              "    </tr>\n",
              "  </tbody>\n",
              "</table>\n",
              "<p>12000 rows × 44 columns</p>\n",
              "</div>\n",
              "    <div class=\"colab-df-buttons\">\n",
              "\n",
              "  <div class=\"colab-df-container\">\n",
              "    <button class=\"colab-df-convert\" onclick=\"convertToInteractive('df-dde9158b-d17c-4767-8383-fb6e8ae04a93')\"\n",
              "            title=\"Convert this dataframe to an interactive table.\"\n",
              "            style=\"display:none;\">\n",
              "\n",
              "  <svg xmlns=\"http://www.w3.org/2000/svg\" height=\"24px\" viewBox=\"0 -960 960 960\">\n",
              "    <path d=\"M120-120v-720h720v720H120Zm60-500h600v-160H180v160Zm220 220h160v-160H400v160Zm0 220h160v-160H400v160ZM180-400h160v-160H180v160Zm440 0h160v-160H620v160ZM180-180h160v-160H180v160Zm440 0h160v-160H620v160Z\"/>\n",
              "  </svg>\n",
              "    </button>\n",
              "\n",
              "  <style>\n",
              "    .colab-df-container {\n",
              "      display:flex;\n",
              "      gap: 12px;\n",
              "    }\n",
              "\n",
              "    .colab-df-convert {\n",
              "      background-color: #E8F0FE;\n",
              "      border: none;\n",
              "      border-radius: 50%;\n",
              "      cursor: pointer;\n",
              "      display: none;\n",
              "      fill: #1967D2;\n",
              "      height: 32px;\n",
              "      padding: 0 0 0 0;\n",
              "      width: 32px;\n",
              "    }\n",
              "\n",
              "    .colab-df-convert:hover {\n",
              "      background-color: #E2EBFA;\n",
              "      box-shadow: 0px 1px 2px rgba(60, 64, 67, 0.3), 0px 1px 3px 1px rgba(60, 64, 67, 0.15);\n",
              "      fill: #174EA6;\n",
              "    }\n",
              "\n",
              "    .colab-df-buttons div {\n",
              "      margin-bottom: 4px;\n",
              "    }\n",
              "\n",
              "    [theme=dark] .colab-df-convert {\n",
              "      background-color: #3B4455;\n",
              "      fill: #D2E3FC;\n",
              "    }\n",
              "\n",
              "    [theme=dark] .colab-df-convert:hover {\n",
              "      background-color: #434B5C;\n",
              "      box-shadow: 0px 1px 3px 1px rgba(0, 0, 0, 0.15);\n",
              "      filter: drop-shadow(0px 1px 2px rgba(0, 0, 0, 0.3));\n",
              "      fill: #FFFFFF;\n",
              "    }\n",
              "  </style>\n",
              "\n",
              "    <script>\n",
              "      const buttonEl =\n",
              "        document.querySelector('#df-dde9158b-d17c-4767-8383-fb6e8ae04a93 button.colab-df-convert');\n",
              "      buttonEl.style.display =\n",
              "        google.colab.kernel.accessAllowed ? 'block' : 'none';\n",
              "\n",
              "      async function convertToInteractive(key) {\n",
              "        const element = document.querySelector('#df-dde9158b-d17c-4767-8383-fb6e8ae04a93');\n",
              "        const dataTable =\n",
              "          await google.colab.kernel.invokeFunction('convertToInteractive',\n",
              "                                                    [key], {});\n",
              "        if (!dataTable) return;\n",
              "\n",
              "        const docLinkHtml = 'Like what you see? Visit the ' +\n",
              "          '<a target=\"_blank\" href=https://colab.research.google.com/notebooks/data_table.ipynb>data table notebook</a>'\n",
              "          + ' to learn more about interactive tables.';\n",
              "        element.innerHTML = '';\n",
              "        dataTable['output_type'] = 'display_data';\n",
              "        await google.colab.output.renderOutput(dataTable, element);\n",
              "        const docLink = document.createElement('div');\n",
              "        docLink.innerHTML = docLinkHtml;\n",
              "        element.appendChild(docLink);\n",
              "      }\n",
              "    </script>\n",
              "  </div>\n",
              "\n",
              "\n",
              "<div id=\"df-392b3e12-49aa-4781-9e94-a40a609324bf\">\n",
              "  <button class=\"colab-df-quickchart\" onclick=\"quickchart('df-392b3e12-49aa-4781-9e94-a40a609324bf')\"\n",
              "            title=\"Suggest charts.\"\n",
              "            style=\"display:none;\">\n",
              "\n",
              "<svg xmlns=\"http://www.w3.org/2000/svg\" height=\"24px\"viewBox=\"0 0 24 24\"\n",
              "     width=\"24px\">\n",
              "    <g>\n",
              "        <path d=\"M19 3H5c-1.1 0-2 .9-2 2v14c0 1.1.9 2 2 2h14c1.1 0 2-.9 2-2V5c0-1.1-.9-2-2-2zM9 17H7v-7h2v7zm4 0h-2V7h2v10zm4 0h-2v-4h2v4z\"/>\n",
              "    </g>\n",
              "</svg>\n",
              "  </button>\n",
              "\n",
              "<style>\n",
              "  .colab-df-quickchart {\n",
              "      --bg-color: #E8F0FE;\n",
              "      --fill-color: #1967D2;\n",
              "      --hover-bg-color: #E2EBFA;\n",
              "      --hover-fill-color: #174EA6;\n",
              "      --disabled-fill-color: #AAA;\n",
              "      --disabled-bg-color: #DDD;\n",
              "  }\n",
              "\n",
              "  [theme=dark] .colab-df-quickchart {\n",
              "      --bg-color: #3B4455;\n",
              "      --fill-color: #D2E3FC;\n",
              "      --hover-bg-color: #434B5C;\n",
              "      --hover-fill-color: #FFFFFF;\n",
              "      --disabled-bg-color: #3B4455;\n",
              "      --disabled-fill-color: #666;\n",
              "  }\n",
              "\n",
              "  .colab-df-quickchart {\n",
              "    background-color: var(--bg-color);\n",
              "    border: none;\n",
              "    border-radius: 50%;\n",
              "    cursor: pointer;\n",
              "    display: none;\n",
              "    fill: var(--fill-color);\n",
              "    height: 32px;\n",
              "    padding: 0;\n",
              "    width: 32px;\n",
              "  }\n",
              "\n",
              "  .colab-df-quickchart:hover {\n",
              "    background-color: var(--hover-bg-color);\n",
              "    box-shadow: 0 1px 2px rgba(60, 64, 67, 0.3), 0 1px 3px 1px rgba(60, 64, 67, 0.15);\n",
              "    fill: var(--button-hover-fill-color);\n",
              "  }\n",
              "\n",
              "  .colab-df-quickchart-complete:disabled,\n",
              "  .colab-df-quickchart-complete:disabled:hover {\n",
              "    background-color: var(--disabled-bg-color);\n",
              "    fill: var(--disabled-fill-color);\n",
              "    box-shadow: none;\n",
              "  }\n",
              "\n",
              "  .colab-df-spinner {\n",
              "    border: 2px solid var(--fill-color);\n",
              "    border-color: transparent;\n",
              "    border-bottom-color: var(--fill-color);\n",
              "    animation:\n",
              "      spin 1s steps(1) infinite;\n",
              "  }\n",
              "\n",
              "  @keyframes spin {\n",
              "    0% {\n",
              "      border-color: transparent;\n",
              "      border-bottom-color: var(--fill-color);\n",
              "      border-left-color: var(--fill-color);\n",
              "    }\n",
              "    20% {\n",
              "      border-color: transparent;\n",
              "      border-left-color: var(--fill-color);\n",
              "      border-top-color: var(--fill-color);\n",
              "    }\n",
              "    30% {\n",
              "      border-color: transparent;\n",
              "      border-left-color: var(--fill-color);\n",
              "      border-top-color: var(--fill-color);\n",
              "      border-right-color: var(--fill-color);\n",
              "    }\n",
              "    40% {\n",
              "      border-color: transparent;\n",
              "      border-right-color: var(--fill-color);\n",
              "      border-top-color: var(--fill-color);\n",
              "    }\n",
              "    60% {\n",
              "      border-color: transparent;\n",
              "      border-right-color: var(--fill-color);\n",
              "    }\n",
              "    80% {\n",
              "      border-color: transparent;\n",
              "      border-right-color: var(--fill-color);\n",
              "      border-bottom-color: var(--fill-color);\n",
              "    }\n",
              "    90% {\n",
              "      border-color: transparent;\n",
              "      border-bottom-color: var(--fill-color);\n",
              "    }\n",
              "  }\n",
              "</style>\n",
              "\n",
              "  <script>\n",
              "    async function quickchart(key) {\n",
              "      const quickchartButtonEl =\n",
              "        document.querySelector('#' + key + ' button');\n",
              "      quickchartButtonEl.disabled = true;  // To prevent multiple clicks.\n",
              "      quickchartButtonEl.classList.add('colab-df-spinner');\n",
              "      try {\n",
              "        const charts = await google.colab.kernel.invokeFunction(\n",
              "            'suggestCharts', [key], {});\n",
              "      } catch (error) {\n",
              "        console.error('Error during call to suggestCharts:', error);\n",
              "      }\n",
              "      quickchartButtonEl.classList.remove('colab-df-spinner');\n",
              "      quickchartButtonEl.classList.add('colab-df-quickchart-complete');\n",
              "    }\n",
              "    (() => {\n",
              "      let quickchartButtonEl =\n",
              "        document.querySelector('#df-392b3e12-49aa-4781-9e94-a40a609324bf button');\n",
              "      quickchartButtonEl.style.display =\n",
              "        google.colab.kernel.accessAllowed ? 'block' : 'none';\n",
              "    })();\n",
              "  </script>\n",
              "</div>\n",
              "    </div>\n",
              "  </div>\n"
            ]
          },
          "metadata": {},
          "execution_count": 206
        }
      ]
    },
    {
      "cell_type": "code",
      "source": [
        "df1 = df[['Willingness to pay/Stay', 'VOC']]\n",
        "\n",
        "tot_data = pd.concat([one_hot_df, df1], axis=1)\n",
        "tot_data.info()"
      ],
      "metadata": {
        "colab": {
          "base_uri": "https://localhost:8080/"
        },
        "id": "3W0ZGv0ze9_2",
        "outputId": "716c7c45-4a2b-4322-de92-bcb7ff5d4cb7"
      },
      "execution_count": null,
      "outputs": [
        {
          "output_type": "stream",
          "name": "stdout",
          "text": [
            "<class 'pandas.core.frame.DataFrame'>\n",
            "RangeIndex: 12000 entries, 0 to 11999\n",
            "Data columns (total 46 columns):\n",
            " #   Column                   Non-Null Count  Dtype  \n",
            "---  ------                   --------------  -----  \n",
            " 0   AGE                      12000 non-null  int64  \n",
            " 1   성별                       12000 non-null  int64  \n",
            " 2   갱신                       12000 non-null  int64  \n",
            " 3   등록(계/피)_계약자              12000 non-null  uint8  \n",
            " 4   등록(계/피)_피보험자             12000 non-null  uint8  \n",
            " 5   고용상태_FALSE               12000 non-null  uint8  \n",
            " 6   고용상태_고용                  12000 non-null  uint8  \n",
            " 7   고용상태_무직                  12000 non-null  uint8  \n",
            " 8   고용상태_휴직                  12000 non-null  uint8  \n",
            " 9   상품타입_고급                  12000 non-null  uint8  \n",
            " 10  상품타입_기본                  12000 non-null  uint8  \n",
            " 11  상품타입_중급                  12000 non-null  uint8  \n",
            " 12  교육수준_고졸이하                12000 non-null  uint8  \n",
            " 13  교육수준_대학졸업                12000 non-null  uint8  \n",
            " 14  교육수준_박사                  12000 non-null  uint8  \n",
            " 15  교육수준_석사                  12000 non-null  uint8  \n",
            " 16  지역_도시근교                  12000 non-null  uint8  \n",
            " 17  지역_도심                    12000 non-null  uint8  \n",
            " 18  지역_시골                    12000 non-null  uint8  \n",
            " 19  결혼여부_기혼                  12000 non-null  uint8  \n",
            " 20  결혼여부_미혼                  12000 non-null  uint8  \n",
            " 21  타 상품 보유 현황_1             12000 non-null  uint8  \n",
            " 22  타 상품 보유 현황_2             12000 non-null  uint8  \n",
            " 23  타 상품 보유 현황_3             12000 non-null  uint8  \n",
            " 24  타 상품 보유 현황_4이상           12000 non-null  uint8  \n",
            " 25  온라인방문빈도_비방문              12000 non-null  uint8  \n",
            " 26  온라인방문빈도_자주방문             12000 non-null  uint8  \n",
            " 27  온라인방문빈도_종종               12000 non-null  uint8  \n",
            " 28  갱신인센티브_설계사독려             12000 non-null  uint8  \n",
            " 29  갱신인센티브_없음                12000 non-null  uint8  \n",
            " 30  갱신인센티브_포인트               12000 non-null  uint8  \n",
            " 31  갱신인센티브_할인                12000 non-null  uint8  \n",
            " 32  판매채널_대리점                 12000 non-null  uint8  \n",
            " 33  판매채널_인터넷                 12000 non-null  uint8  \n",
            " 34  판매채널_자사영업                12000 non-null  uint8  \n",
            " 35  판매채널_콜센터                 12000 non-null  uint8  \n",
            " 36  자동차_SUV                  12000 non-null  uint8  \n",
            " 37  자동차_고급차                  12000 non-null  uint8  \n",
            " 38  자동차_스포츠카                 12000 non-null  uint8  \n",
            " 39  자동차_일반세단                 12000 non-null  uint8  \n",
            " 40  자동차_컴팩트카                 12000 non-null  uint8  \n",
            " 41  거주지사이즈_대                 12000 non-null  uint8  \n",
            " 42  거주지사이즈_소                 12000 non-null  uint8  \n",
            " 43  거주지사이즈_중                 12000 non-null  uint8  \n",
            " 44  Willingness to pay/Stay  12000 non-null  float64\n",
            " 45  VOC                      12000 non-null  int64  \n",
            "dtypes: float64(1), int64(4), uint8(41)\n",
            "memory usage: 949.3 KB\n"
          ]
        }
      ]
    },
    {
      "cell_type": "code",
      "source": [
        "# 정규화\n",
        "sc = StandardScaler()\n",
        "tot_data_scaled = sc.fit_transform(tot_data)\n",
        "pd.DataFrame(tot_data_scaled)"
      ],
      "metadata": {
        "colab": {
          "base_uri": "https://localhost:8080/",
          "height": 443
        },
        "id": "YwSq55zrhdwK",
        "outputId": "b539d94d-eafd-4b7d-ab9f-aa1151ae5d90"
      },
      "execution_count": null,
      "outputs": [
        {
          "output_type": "execute_result",
          "data": {
            "text/plain": [
              "             0         1         2         3         4         5         6   \\\n",
              "0     -0.070427  1.025149 -0.408486 -1.913163  1.913163 -0.175863 -1.295136   \n",
              "1     -1.853401 -0.975467 -0.408486  0.522695 -0.522695 -0.175863  0.772120   \n",
              "2     -0.961914 -0.975467 -0.408486  0.522695 -0.522695 -0.175863 -1.295136   \n",
              "3      1.712546  1.025149 -0.408486  0.522695 -0.522695 -0.175863  0.772120   \n",
              "4      0.821059 -0.975467 -0.408486  0.522695 -0.522695 -0.175863  0.772120   \n",
              "...         ...       ...       ...       ...       ...       ...       ...   \n",
              "11995 -1.853401  1.025149 -0.408486  0.522695 -0.522695 -0.175863  0.772120   \n",
              "11996 -0.070427 -0.975467  2.448062 -1.913163  1.913163 -0.175863  0.772120   \n",
              "11997 -0.070427  1.025149 -0.408486 -1.913163  1.913163 -0.175863 -1.295136   \n",
              "11998  0.821059  1.025149 -0.408486  0.522695 -0.522695 -0.175863  0.772120   \n",
              "11999 -0.070427  1.025149 -0.408486 -1.913163  1.913163 -0.175863 -1.295136   \n",
              "\n",
              "             7        8         9   ...        36        37        38  \\\n",
              "0      1.721340 -0.31672 -0.313685  ... -0.491652 -0.198295 -0.239698   \n",
              "1     -0.580943 -0.31672 -0.313685  ... -0.491652 -0.198295 -0.239698   \n",
              "2     -0.580943  3.15736 -0.313685  ... -0.491652 -0.198295 -0.239698   \n",
              "3     -0.580943 -0.31672  3.187913  ... -0.491652 -0.198295 -0.239698   \n",
              "4     -0.580943 -0.31672 -0.313685  ...  2.033958 -0.198295 -0.239698   \n",
              "...         ...      ...       ...  ...       ...       ...       ...   \n",
              "11995 -0.580943 -0.31672 -0.313685  ... -0.491652 -0.198295 -0.239698   \n",
              "11996 -0.580943 -0.31672 -0.313685  ... -0.491652 -0.198295 -0.239698   \n",
              "11997  1.721340 -0.31672 -0.313685  ... -0.491652 -0.198295 -0.239698   \n",
              "11998 -0.580943 -0.31672 -0.313685  ... -0.491652 -0.198295 -0.239698   \n",
              "11999  1.721340 -0.31672 -0.313685  ... -0.491652 -0.198295 -0.239698   \n",
              "\n",
              "             39        40        41        42        43        44        45  \n",
              "0      0.987742 -0.510915 -0.340235  2.036123 -1.534525 -0.810943 -0.424294  \n",
              "1      0.987742 -0.510915 -0.340235 -0.491129  0.651668 -0.325638  0.663175  \n",
              "2      0.987742 -0.510915 -0.340235 -0.491129  0.651668 -0.504656 -0.424294  \n",
              "3     -1.012410  1.957273  2.939142 -0.491129 -1.534525  0.600217 -0.424294  \n",
              "4     -1.012410 -0.510915 -0.340235 -0.491129  0.651668  0.119108 -0.424294  \n",
              "...         ...       ...       ...       ...       ...       ...       ...  \n",
              "11995  0.987742 -0.510915 -0.340235 -0.491129  0.651668  2.224522 -0.424294  \n",
              "11996  0.987742 -0.510915 -0.340235 -0.491129  0.651668 -0.703830 -0.424294  \n",
              "11997  0.987742 -0.510915 -0.340235 -0.491129  0.651668  0.025735  2.838111  \n",
              "11998  0.987742 -0.510915  2.939142 -0.491129 -1.534525 -0.066542 -0.424294  \n",
              "11999 -1.012410  1.957273 -0.340235 -0.491129  0.651668 -0.774479 -0.424294  \n",
              "\n",
              "[12000 rows x 46 columns]"
            ],
            "text/html": [
              "\n",
              "  <div id=\"df-3198d655-086a-423e-983e-cf9947283239\" class=\"colab-df-container\">\n",
              "    <div>\n",
              "<style scoped>\n",
              "    .dataframe tbody tr th:only-of-type {\n",
              "        vertical-align: middle;\n",
              "    }\n",
              "\n",
              "    .dataframe tbody tr th {\n",
              "        vertical-align: top;\n",
              "    }\n",
              "\n",
              "    .dataframe thead th {\n",
              "        text-align: right;\n",
              "    }\n",
              "</style>\n",
              "<table border=\"1\" class=\"dataframe\">\n",
              "  <thead>\n",
              "    <tr style=\"text-align: right;\">\n",
              "      <th></th>\n",
              "      <th>0</th>\n",
              "      <th>1</th>\n",
              "      <th>2</th>\n",
              "      <th>3</th>\n",
              "      <th>4</th>\n",
              "      <th>5</th>\n",
              "      <th>6</th>\n",
              "      <th>7</th>\n",
              "      <th>8</th>\n",
              "      <th>9</th>\n",
              "      <th>...</th>\n",
              "      <th>36</th>\n",
              "      <th>37</th>\n",
              "      <th>38</th>\n",
              "      <th>39</th>\n",
              "      <th>40</th>\n",
              "      <th>41</th>\n",
              "      <th>42</th>\n",
              "      <th>43</th>\n",
              "      <th>44</th>\n",
              "      <th>45</th>\n",
              "    </tr>\n",
              "  </thead>\n",
              "  <tbody>\n",
              "    <tr>\n",
              "      <th>0</th>\n",
              "      <td>-0.070427</td>\n",
              "      <td>1.025149</td>\n",
              "      <td>-0.408486</td>\n",
              "      <td>-1.913163</td>\n",
              "      <td>1.913163</td>\n",
              "      <td>-0.175863</td>\n",
              "      <td>-1.295136</td>\n",
              "      <td>1.721340</td>\n",
              "      <td>-0.31672</td>\n",
              "      <td>-0.313685</td>\n",
              "      <td>...</td>\n",
              "      <td>-0.491652</td>\n",
              "      <td>-0.198295</td>\n",
              "      <td>-0.239698</td>\n",
              "      <td>0.987742</td>\n",
              "      <td>-0.510915</td>\n",
              "      <td>-0.340235</td>\n",
              "      <td>2.036123</td>\n",
              "      <td>-1.534525</td>\n",
              "      <td>-0.810943</td>\n",
              "      <td>-0.424294</td>\n",
              "    </tr>\n",
              "    <tr>\n",
              "      <th>1</th>\n",
              "      <td>-1.853401</td>\n",
              "      <td>-0.975467</td>\n",
              "      <td>-0.408486</td>\n",
              "      <td>0.522695</td>\n",
              "      <td>-0.522695</td>\n",
              "      <td>-0.175863</td>\n",
              "      <td>0.772120</td>\n",
              "      <td>-0.580943</td>\n",
              "      <td>-0.31672</td>\n",
              "      <td>-0.313685</td>\n",
              "      <td>...</td>\n",
              "      <td>-0.491652</td>\n",
              "      <td>-0.198295</td>\n",
              "      <td>-0.239698</td>\n",
              "      <td>0.987742</td>\n",
              "      <td>-0.510915</td>\n",
              "      <td>-0.340235</td>\n",
              "      <td>-0.491129</td>\n",
              "      <td>0.651668</td>\n",
              "      <td>-0.325638</td>\n",
              "      <td>0.663175</td>\n",
              "    </tr>\n",
              "    <tr>\n",
              "      <th>2</th>\n",
              "      <td>-0.961914</td>\n",
              "      <td>-0.975467</td>\n",
              "      <td>-0.408486</td>\n",
              "      <td>0.522695</td>\n",
              "      <td>-0.522695</td>\n",
              "      <td>-0.175863</td>\n",
              "      <td>-1.295136</td>\n",
              "      <td>-0.580943</td>\n",
              "      <td>3.15736</td>\n",
              "      <td>-0.313685</td>\n",
              "      <td>...</td>\n",
              "      <td>-0.491652</td>\n",
              "      <td>-0.198295</td>\n",
              "      <td>-0.239698</td>\n",
              "      <td>0.987742</td>\n",
              "      <td>-0.510915</td>\n",
              "      <td>-0.340235</td>\n",
              "      <td>-0.491129</td>\n",
              "      <td>0.651668</td>\n",
              "      <td>-0.504656</td>\n",
              "      <td>-0.424294</td>\n",
              "    </tr>\n",
              "    <tr>\n",
              "      <th>3</th>\n",
              "      <td>1.712546</td>\n",
              "      <td>1.025149</td>\n",
              "      <td>-0.408486</td>\n",
              "      <td>0.522695</td>\n",
              "      <td>-0.522695</td>\n",
              "      <td>-0.175863</td>\n",
              "      <td>0.772120</td>\n",
              "      <td>-0.580943</td>\n",
              "      <td>-0.31672</td>\n",
              "      <td>3.187913</td>\n",
              "      <td>...</td>\n",
              "      <td>-0.491652</td>\n",
              "      <td>-0.198295</td>\n",
              "      <td>-0.239698</td>\n",
              "      <td>-1.012410</td>\n",
              "      <td>1.957273</td>\n",
              "      <td>2.939142</td>\n",
              "      <td>-0.491129</td>\n",
              "      <td>-1.534525</td>\n",
              "      <td>0.600217</td>\n",
              "      <td>-0.424294</td>\n",
              "    </tr>\n",
              "    <tr>\n",
              "      <th>4</th>\n",
              "      <td>0.821059</td>\n",
              "      <td>-0.975467</td>\n",
              "      <td>-0.408486</td>\n",
              "      <td>0.522695</td>\n",
              "      <td>-0.522695</td>\n",
              "      <td>-0.175863</td>\n",
              "      <td>0.772120</td>\n",
              "      <td>-0.580943</td>\n",
              "      <td>-0.31672</td>\n",
              "      <td>-0.313685</td>\n",
              "      <td>...</td>\n",
              "      <td>2.033958</td>\n",
              "      <td>-0.198295</td>\n",
              "      <td>-0.239698</td>\n",
              "      <td>-1.012410</td>\n",
              "      <td>-0.510915</td>\n",
              "      <td>-0.340235</td>\n",
              "      <td>-0.491129</td>\n",
              "      <td>0.651668</td>\n",
              "      <td>0.119108</td>\n",
              "      <td>-0.424294</td>\n",
              "    </tr>\n",
              "    <tr>\n",
              "      <th>...</th>\n",
              "      <td>...</td>\n",
              "      <td>...</td>\n",
              "      <td>...</td>\n",
              "      <td>...</td>\n",
              "      <td>...</td>\n",
              "      <td>...</td>\n",
              "      <td>...</td>\n",
              "      <td>...</td>\n",
              "      <td>...</td>\n",
              "      <td>...</td>\n",
              "      <td>...</td>\n",
              "      <td>...</td>\n",
              "      <td>...</td>\n",
              "      <td>...</td>\n",
              "      <td>...</td>\n",
              "      <td>...</td>\n",
              "      <td>...</td>\n",
              "      <td>...</td>\n",
              "      <td>...</td>\n",
              "      <td>...</td>\n",
              "      <td>...</td>\n",
              "    </tr>\n",
              "    <tr>\n",
              "      <th>11995</th>\n",
              "      <td>-1.853401</td>\n",
              "      <td>1.025149</td>\n",
              "      <td>-0.408486</td>\n",
              "      <td>0.522695</td>\n",
              "      <td>-0.522695</td>\n",
              "      <td>-0.175863</td>\n",
              "      <td>0.772120</td>\n",
              "      <td>-0.580943</td>\n",
              "      <td>-0.31672</td>\n",
              "      <td>-0.313685</td>\n",
              "      <td>...</td>\n",
              "      <td>-0.491652</td>\n",
              "      <td>-0.198295</td>\n",
              "      <td>-0.239698</td>\n",
              "      <td>0.987742</td>\n",
              "      <td>-0.510915</td>\n",
              "      <td>-0.340235</td>\n",
              "      <td>-0.491129</td>\n",
              "      <td>0.651668</td>\n",
              "      <td>2.224522</td>\n",
              "      <td>-0.424294</td>\n",
              "    </tr>\n",
              "    <tr>\n",
              "      <th>11996</th>\n",
              "      <td>-0.070427</td>\n",
              "      <td>-0.975467</td>\n",
              "      <td>2.448062</td>\n",
              "      <td>-1.913163</td>\n",
              "      <td>1.913163</td>\n",
              "      <td>-0.175863</td>\n",
              "      <td>0.772120</td>\n",
              "      <td>-0.580943</td>\n",
              "      <td>-0.31672</td>\n",
              "      <td>-0.313685</td>\n",
              "      <td>...</td>\n",
              "      <td>-0.491652</td>\n",
              "      <td>-0.198295</td>\n",
              "      <td>-0.239698</td>\n",
              "      <td>0.987742</td>\n",
              "      <td>-0.510915</td>\n",
              "      <td>-0.340235</td>\n",
              "      <td>-0.491129</td>\n",
              "      <td>0.651668</td>\n",
              "      <td>-0.703830</td>\n",
              "      <td>-0.424294</td>\n",
              "    </tr>\n",
              "    <tr>\n",
              "      <th>11997</th>\n",
              "      <td>-0.070427</td>\n",
              "      <td>1.025149</td>\n",
              "      <td>-0.408486</td>\n",
              "      <td>-1.913163</td>\n",
              "      <td>1.913163</td>\n",
              "      <td>-0.175863</td>\n",
              "      <td>-1.295136</td>\n",
              "      <td>1.721340</td>\n",
              "      <td>-0.31672</td>\n",
              "      <td>-0.313685</td>\n",
              "      <td>...</td>\n",
              "      <td>-0.491652</td>\n",
              "      <td>-0.198295</td>\n",
              "      <td>-0.239698</td>\n",
              "      <td>0.987742</td>\n",
              "      <td>-0.510915</td>\n",
              "      <td>-0.340235</td>\n",
              "      <td>-0.491129</td>\n",
              "      <td>0.651668</td>\n",
              "      <td>0.025735</td>\n",
              "      <td>2.838111</td>\n",
              "    </tr>\n",
              "    <tr>\n",
              "      <th>11998</th>\n",
              "      <td>0.821059</td>\n",
              "      <td>1.025149</td>\n",
              "      <td>-0.408486</td>\n",
              "      <td>0.522695</td>\n",
              "      <td>-0.522695</td>\n",
              "      <td>-0.175863</td>\n",
              "      <td>0.772120</td>\n",
              "      <td>-0.580943</td>\n",
              "      <td>-0.31672</td>\n",
              "      <td>-0.313685</td>\n",
              "      <td>...</td>\n",
              "      <td>-0.491652</td>\n",
              "      <td>-0.198295</td>\n",
              "      <td>-0.239698</td>\n",
              "      <td>0.987742</td>\n",
              "      <td>-0.510915</td>\n",
              "      <td>2.939142</td>\n",
              "      <td>-0.491129</td>\n",
              "      <td>-1.534525</td>\n",
              "      <td>-0.066542</td>\n",
              "      <td>-0.424294</td>\n",
              "    </tr>\n",
              "    <tr>\n",
              "      <th>11999</th>\n",
              "      <td>-0.070427</td>\n",
              "      <td>1.025149</td>\n",
              "      <td>-0.408486</td>\n",
              "      <td>-1.913163</td>\n",
              "      <td>1.913163</td>\n",
              "      <td>-0.175863</td>\n",
              "      <td>-1.295136</td>\n",
              "      <td>1.721340</td>\n",
              "      <td>-0.31672</td>\n",
              "      <td>-0.313685</td>\n",
              "      <td>...</td>\n",
              "      <td>-0.491652</td>\n",
              "      <td>-0.198295</td>\n",
              "      <td>-0.239698</td>\n",
              "      <td>-1.012410</td>\n",
              "      <td>1.957273</td>\n",
              "      <td>-0.340235</td>\n",
              "      <td>-0.491129</td>\n",
              "      <td>0.651668</td>\n",
              "      <td>-0.774479</td>\n",
              "      <td>-0.424294</td>\n",
              "    </tr>\n",
              "  </tbody>\n",
              "</table>\n",
              "<p>12000 rows × 46 columns</p>\n",
              "</div>\n",
              "    <div class=\"colab-df-buttons\">\n",
              "\n",
              "  <div class=\"colab-df-container\">\n",
              "    <button class=\"colab-df-convert\" onclick=\"convertToInteractive('df-3198d655-086a-423e-983e-cf9947283239')\"\n",
              "            title=\"Convert this dataframe to an interactive table.\"\n",
              "            style=\"display:none;\">\n",
              "\n",
              "  <svg xmlns=\"http://www.w3.org/2000/svg\" height=\"24px\" viewBox=\"0 -960 960 960\">\n",
              "    <path d=\"M120-120v-720h720v720H120Zm60-500h600v-160H180v160Zm220 220h160v-160H400v160Zm0 220h160v-160H400v160ZM180-400h160v-160H180v160Zm440 0h160v-160H620v160ZM180-180h160v-160H180v160Zm440 0h160v-160H620v160Z\"/>\n",
              "  </svg>\n",
              "    </button>\n",
              "\n",
              "  <style>\n",
              "    .colab-df-container {\n",
              "      display:flex;\n",
              "      gap: 12px;\n",
              "    }\n",
              "\n",
              "    .colab-df-convert {\n",
              "      background-color: #E8F0FE;\n",
              "      border: none;\n",
              "      border-radius: 50%;\n",
              "      cursor: pointer;\n",
              "      display: none;\n",
              "      fill: #1967D2;\n",
              "      height: 32px;\n",
              "      padding: 0 0 0 0;\n",
              "      width: 32px;\n",
              "    }\n",
              "\n",
              "    .colab-df-convert:hover {\n",
              "      background-color: #E2EBFA;\n",
              "      box-shadow: 0px 1px 2px rgba(60, 64, 67, 0.3), 0px 1px 3px 1px rgba(60, 64, 67, 0.15);\n",
              "      fill: #174EA6;\n",
              "    }\n",
              "\n",
              "    .colab-df-buttons div {\n",
              "      margin-bottom: 4px;\n",
              "    }\n",
              "\n",
              "    [theme=dark] .colab-df-convert {\n",
              "      background-color: #3B4455;\n",
              "      fill: #D2E3FC;\n",
              "    }\n",
              "\n",
              "    [theme=dark] .colab-df-convert:hover {\n",
              "      background-color: #434B5C;\n",
              "      box-shadow: 0px 1px 3px 1px rgba(0, 0, 0, 0.15);\n",
              "      filter: drop-shadow(0px 1px 2px rgba(0, 0, 0, 0.3));\n",
              "      fill: #FFFFFF;\n",
              "    }\n",
              "  </style>\n",
              "\n",
              "    <script>\n",
              "      const buttonEl =\n",
              "        document.querySelector('#df-3198d655-086a-423e-983e-cf9947283239 button.colab-df-convert');\n",
              "      buttonEl.style.display =\n",
              "        google.colab.kernel.accessAllowed ? 'block' : 'none';\n",
              "\n",
              "      async function convertToInteractive(key) {\n",
              "        const element = document.querySelector('#df-3198d655-086a-423e-983e-cf9947283239');\n",
              "        const dataTable =\n",
              "          await google.colab.kernel.invokeFunction('convertToInteractive',\n",
              "                                                    [key], {});\n",
              "        if (!dataTable) return;\n",
              "\n",
              "        const docLinkHtml = 'Like what you see? Visit the ' +\n",
              "          '<a target=\"_blank\" href=https://colab.research.google.com/notebooks/data_table.ipynb>data table notebook</a>'\n",
              "          + ' to learn more about interactive tables.';\n",
              "        element.innerHTML = '';\n",
              "        dataTable['output_type'] = 'display_data';\n",
              "        await google.colab.output.renderOutput(dataTable, element);\n",
              "        const docLink = document.createElement('div');\n",
              "        docLink.innerHTML = docLinkHtml;\n",
              "        element.appendChild(docLink);\n",
              "      }\n",
              "    </script>\n",
              "  </div>\n",
              "\n",
              "\n",
              "<div id=\"df-ee24876d-e9eb-4e40-af49-db3d63506837\">\n",
              "  <button class=\"colab-df-quickchart\" onclick=\"quickchart('df-ee24876d-e9eb-4e40-af49-db3d63506837')\"\n",
              "            title=\"Suggest charts.\"\n",
              "            style=\"display:none;\">\n",
              "\n",
              "<svg xmlns=\"http://www.w3.org/2000/svg\" height=\"24px\"viewBox=\"0 0 24 24\"\n",
              "     width=\"24px\">\n",
              "    <g>\n",
              "        <path d=\"M19 3H5c-1.1 0-2 .9-2 2v14c0 1.1.9 2 2 2h14c1.1 0 2-.9 2-2V5c0-1.1-.9-2-2-2zM9 17H7v-7h2v7zm4 0h-2V7h2v10zm4 0h-2v-4h2v4z\"/>\n",
              "    </g>\n",
              "</svg>\n",
              "  </button>\n",
              "\n",
              "<style>\n",
              "  .colab-df-quickchart {\n",
              "      --bg-color: #E8F0FE;\n",
              "      --fill-color: #1967D2;\n",
              "      --hover-bg-color: #E2EBFA;\n",
              "      --hover-fill-color: #174EA6;\n",
              "      --disabled-fill-color: #AAA;\n",
              "      --disabled-bg-color: #DDD;\n",
              "  }\n",
              "\n",
              "  [theme=dark] .colab-df-quickchart {\n",
              "      --bg-color: #3B4455;\n",
              "      --fill-color: #D2E3FC;\n",
              "      --hover-bg-color: #434B5C;\n",
              "      --hover-fill-color: #FFFFFF;\n",
              "      --disabled-bg-color: #3B4455;\n",
              "      --disabled-fill-color: #666;\n",
              "  }\n",
              "\n",
              "  .colab-df-quickchart {\n",
              "    background-color: var(--bg-color);\n",
              "    border: none;\n",
              "    border-radius: 50%;\n",
              "    cursor: pointer;\n",
              "    display: none;\n",
              "    fill: var(--fill-color);\n",
              "    height: 32px;\n",
              "    padding: 0;\n",
              "    width: 32px;\n",
              "  }\n",
              "\n",
              "  .colab-df-quickchart:hover {\n",
              "    background-color: var(--hover-bg-color);\n",
              "    box-shadow: 0 1px 2px rgba(60, 64, 67, 0.3), 0 1px 3px 1px rgba(60, 64, 67, 0.15);\n",
              "    fill: var(--button-hover-fill-color);\n",
              "  }\n",
              "\n",
              "  .colab-df-quickchart-complete:disabled,\n",
              "  .colab-df-quickchart-complete:disabled:hover {\n",
              "    background-color: var(--disabled-bg-color);\n",
              "    fill: var(--disabled-fill-color);\n",
              "    box-shadow: none;\n",
              "  }\n",
              "\n",
              "  .colab-df-spinner {\n",
              "    border: 2px solid var(--fill-color);\n",
              "    border-color: transparent;\n",
              "    border-bottom-color: var(--fill-color);\n",
              "    animation:\n",
              "      spin 1s steps(1) infinite;\n",
              "  }\n",
              "\n",
              "  @keyframes spin {\n",
              "    0% {\n",
              "      border-color: transparent;\n",
              "      border-bottom-color: var(--fill-color);\n",
              "      border-left-color: var(--fill-color);\n",
              "    }\n",
              "    20% {\n",
              "      border-color: transparent;\n",
              "      border-left-color: var(--fill-color);\n",
              "      border-top-color: var(--fill-color);\n",
              "    }\n",
              "    30% {\n",
              "      border-color: transparent;\n",
              "      border-left-color: var(--fill-color);\n",
              "      border-top-color: var(--fill-color);\n",
              "      border-right-color: var(--fill-color);\n",
              "    }\n",
              "    40% {\n",
              "      border-color: transparent;\n",
              "      border-right-color: var(--fill-color);\n",
              "      border-top-color: var(--fill-color);\n",
              "    }\n",
              "    60% {\n",
              "      border-color: transparent;\n",
              "      border-right-color: var(--fill-color);\n",
              "    }\n",
              "    80% {\n",
              "      border-color: transparent;\n",
              "      border-right-color: var(--fill-color);\n",
              "      border-bottom-color: var(--fill-color);\n",
              "    }\n",
              "    90% {\n",
              "      border-color: transparent;\n",
              "      border-bottom-color: var(--fill-color);\n",
              "    }\n",
              "  }\n",
              "</style>\n",
              "\n",
              "  <script>\n",
              "    async function quickchart(key) {\n",
              "      const quickchartButtonEl =\n",
              "        document.querySelector('#' + key + ' button');\n",
              "      quickchartButtonEl.disabled = true;  // To prevent multiple clicks.\n",
              "      quickchartButtonEl.classList.add('colab-df-spinner');\n",
              "      try {\n",
              "        const charts = await google.colab.kernel.invokeFunction(\n",
              "            'suggestCharts', [key], {});\n",
              "      } catch (error) {\n",
              "        console.error('Error during call to suggestCharts:', error);\n",
              "      }\n",
              "      quickchartButtonEl.classList.remove('colab-df-spinner');\n",
              "      quickchartButtonEl.classList.add('colab-df-quickchart-complete');\n",
              "    }\n",
              "    (() => {\n",
              "      let quickchartButtonEl =\n",
              "        document.querySelector('#df-ee24876d-e9eb-4e40-af49-db3d63506837 button');\n",
              "      quickchartButtonEl.style.display =\n",
              "        google.colab.kernel.accessAllowed ? 'block' : 'none';\n",
              "    })();\n",
              "  </script>\n",
              "</div>\n",
              "    </div>\n",
              "  </div>\n"
            ]
          },
          "metadata": {},
          "execution_count": 212
        }
      ]
    },
    {
      "cell_type": "code",
      "source": [
        "# elbow method 시각화\n",
        "\n",
        "sum_of_squared_distances = []\n",
        "\n",
        "K = range(1, 15)\n",
        "for i in K:\n",
        "    kmean_plus = KMeans(n_clusters=i)\n",
        "    kmean_plus.fit(tot_data_scaled)\n",
        "    sum_of_squared_distances.append(kmean_plus.inertia_)\n",
        "\n",
        "plt.plot(K, sum_of_squared_distances, 'bx-')\n",
        "plt.xlabel('k')\n",
        "plt.ylabel('Sum_of_squared_distances')\n",
        "plt.title('Elbow Method For Optimal k')\n",
        "plt.axvline(2,c= 'r',alpha =0.4)\n",
        "plt.axvline(3,c= 'r',alpha =0.4)\n",
        "plt.show()"
      ],
      "metadata": {
        "colab": {
          "base_uri": "https://localhost:8080/",
          "height": 1000
        },
        "id": "Mpty73y8auGH",
        "outputId": "281482b9-658b-4a5b-e8d3-664e00fd78cd"
      },
      "execution_count": null,
      "outputs": [
        {
          "output_type": "stream",
          "name": "stderr",
          "text": [
            "/usr/local/lib/python3.10/dist-packages/sklearn/cluster/_kmeans.py:870: FutureWarning: The default value of `n_init` will change from 10 to 'auto' in 1.4. Set the value of `n_init` explicitly to suppress the warning\n",
            "  warnings.warn(\n",
            "/usr/local/lib/python3.10/dist-packages/sklearn/cluster/_kmeans.py:870: FutureWarning: The default value of `n_init` will change from 10 to 'auto' in 1.4. Set the value of `n_init` explicitly to suppress the warning\n",
            "  warnings.warn(\n",
            "/usr/local/lib/python3.10/dist-packages/sklearn/cluster/_kmeans.py:870: FutureWarning: The default value of `n_init` will change from 10 to 'auto' in 1.4. Set the value of `n_init` explicitly to suppress the warning\n",
            "  warnings.warn(\n",
            "/usr/local/lib/python3.10/dist-packages/sklearn/cluster/_kmeans.py:870: FutureWarning: The default value of `n_init` will change from 10 to 'auto' in 1.4. Set the value of `n_init` explicitly to suppress the warning\n",
            "  warnings.warn(\n",
            "/usr/local/lib/python3.10/dist-packages/sklearn/cluster/_kmeans.py:870: FutureWarning: The default value of `n_init` will change from 10 to 'auto' in 1.4. Set the value of `n_init` explicitly to suppress the warning\n",
            "  warnings.warn(\n",
            "/usr/local/lib/python3.10/dist-packages/sklearn/cluster/_kmeans.py:870: FutureWarning: The default value of `n_init` will change from 10 to 'auto' in 1.4. Set the value of `n_init` explicitly to suppress the warning\n",
            "  warnings.warn(\n",
            "/usr/local/lib/python3.10/dist-packages/sklearn/cluster/_kmeans.py:870: FutureWarning: The default value of `n_init` will change from 10 to 'auto' in 1.4. Set the value of `n_init` explicitly to suppress the warning\n",
            "  warnings.warn(\n",
            "/usr/local/lib/python3.10/dist-packages/sklearn/cluster/_kmeans.py:870: FutureWarning: The default value of `n_init` will change from 10 to 'auto' in 1.4. Set the value of `n_init` explicitly to suppress the warning\n",
            "  warnings.warn(\n",
            "/usr/local/lib/python3.10/dist-packages/sklearn/cluster/_kmeans.py:870: FutureWarning: The default value of `n_init` will change from 10 to 'auto' in 1.4. Set the value of `n_init` explicitly to suppress the warning\n",
            "  warnings.warn(\n",
            "/usr/local/lib/python3.10/dist-packages/sklearn/cluster/_kmeans.py:870: FutureWarning: The default value of `n_init` will change from 10 to 'auto' in 1.4. Set the value of `n_init` explicitly to suppress the warning\n",
            "  warnings.warn(\n",
            "/usr/local/lib/python3.10/dist-packages/sklearn/cluster/_kmeans.py:870: FutureWarning: The default value of `n_init` will change from 10 to 'auto' in 1.4. Set the value of `n_init` explicitly to suppress the warning\n",
            "  warnings.warn(\n",
            "/usr/local/lib/python3.10/dist-packages/sklearn/cluster/_kmeans.py:870: FutureWarning: The default value of `n_init` will change from 10 to 'auto' in 1.4. Set the value of `n_init` explicitly to suppress the warning\n",
            "  warnings.warn(\n",
            "/usr/local/lib/python3.10/dist-packages/sklearn/cluster/_kmeans.py:870: FutureWarning: The default value of `n_init` will change from 10 to 'auto' in 1.4. Set the value of `n_init` explicitly to suppress the warning\n",
            "  warnings.warn(\n",
            "/usr/local/lib/python3.10/dist-packages/sklearn/cluster/_kmeans.py:870: FutureWarning: The default value of `n_init` will change from 10 to 'auto' in 1.4. Set the value of `n_init` explicitly to suppress the warning\n",
            "  warnings.warn(\n"
          ]
        },
        {
          "output_type": "display_data",
          "data": {
            "text/plain": [
              "<Figure size 640x480 with 1 Axes>"
            ],
            "image/png": "[encoded data removed]"
          },
          "metadata": {}
        }
      ]
    },
    {
      "cell_type": "markdown",
      "source": [
        "# 2. K-means Clustering"
      ],
      "metadata": {
        "id": "2T5B7IP6gKqL"
      }
    },
    {
      "cell_type": "code",
      "source": [
        "# k = 3 클러스터링\n",
        "\n",
        "kmeans = KMeans(n_clusters=3, random_state=42)\n",
        "clusters = kmeans.fit(tot_data_scaled)\n",
        "\n",
        "tot_data['cluster'] = clusters.labels_\n",
        "tot_data.head()"
      ],
      "metadata": {
        "colab": {
          "base_uri": "https://localhost:8080/",
          "height": 344
        },
        "id": "IpGJ9_yNieHu",
        "outputId": "44f25461-6c36-49ff-f3ae-70d636558d60"
      },
      "execution_count": null,
      "outputs": [
        {
          "output_type": "stream",
          "name": "stderr",
          "text": [
            "/usr/local/lib/python3.10/dist-packages/sklearn/cluster/_kmeans.py:870: FutureWarning: The default value of `n_init` will change from 10 to 'auto' in 1.4. Set the value of `n_init` explicitly to suppress the warning\n",
            "  warnings.warn(\n"
          ]
        },
        {
          "output_type": "execute_result",
          "data": {
            "text/plain": [
              "   AGE  성별  갱신  등록(계/피)_계약자  등록(계/피)_피보험자  고용상태_FALSE  고용상태_고용  고용상태_무직  \\\n",
              "0    3   1   0            0             1           0        0        1   \n",
              "1    1   0   0            1             0           0        1        0   \n",
              "2    2   0   0            1             0           0        0        0   \n",
              "3    5   1   0            1             0           0        1        0   \n",
              "4    4   0   0            1             0           0        1        0   \n",
              "\n",
              "   고용상태_휴직  상품타입_고급  ...  자동차_고급차  자동차_스포츠카  자동차_일반세단  자동차_컴팩트카  거주지사이즈_대  \\\n",
              "0        0        0  ...        0         0         1         0         0   \n",
              "1        0        0  ...        0         0         1         0         0   \n",
              "2        1        0  ...        0         0         1         0         0   \n",
              "3        0        1  ...        0         0         0         1         1   \n",
              "4        0        0  ...        0         0         0         0         0   \n",
              "\n",
              "   거주지사이즈_소  거주지사이즈_중  Willingness to pay/Stay  VOC  cluster  \n",
              "0         1         0                 2.616381    0        2  \n",
              "1         0         1                 6.352530    1        0  \n",
              "2         0         1                 4.974354    0        1  \n",
              "3         0         0                13.480284    0        0  \n",
              "4         0         1                 9.776436    0        0  \n",
              "\n",
              "[5 rows x 47 columns]"
            ],
            "text/html": [
              "\n",
              "  <div id=\"df-80de7c38-d7c8-4bdd-809b-94a244c71bcd\" class=\"colab-df-container\">\n",
              "    <div>\n",
              "<style scoped>\n",
              "    .dataframe tbody tr th:only-of-type {\n",
              "        vertical-align: middle;\n",
              "    }\n",
              "\n",
              "    .dataframe tbody tr th {\n",
              "        vertical-align: top;\n",
              "    }\n",
              "\n",
              "    .dataframe thead th {\n",
              "        text-align: right;\n",
              "    }\n",
              "</style>\n",
              "<table border=\"1\" class=\"dataframe\">\n",
              "  <thead>\n",
              "    <tr style=\"text-align: right;\">\n",
              "      <th></th>\n",
              "      <th>AGE</th>\n",
              "      <th>성별</th>\n",
              "      <th>갱신</th>\n",
              "      <th>등록(계/피)_계약자</th>\n",
              "      <th>등록(계/피)_피보험자</th>\n",
              "      <th>고용상태_FALSE</th>\n",
              "      <th>고용상태_고용</th>\n",
              "      <th>고용상태_무직</th>\n",
              "      <th>고용상태_휴직</th>\n",
              "      <th>상품타입_고급</th>\n",
              "      <th>...</th>\n",
              "      <th>자동차_고급차</th>\n",
              "      <th>자동차_스포츠카</th>\n",
              "      <th>자동차_일반세단</th>\n",
              "      <th>자동차_컴팩트카</th>\n",
              "      <th>거주지사이즈_대</th>\n",
              "      <th>거주지사이즈_소</th>\n",
              "      <th>거주지사이즈_중</th>\n",
              "      <th>Willingness to pay/Stay</th>\n",
              "      <th>VOC</th>\n",
              "      <th>cluster</th>\n",
              "    </tr>\n",
              "  </thead>\n",
              "  <tbody>\n",
              "    <tr>\n",
              "      <th>0</th>\n",
              "      <td>3</td>\n",
              "      <td>1</td>\n",
              "      <td>0</td>\n",
              "      <td>0</td>\n",
              "      <td>1</td>\n",
              "      <td>0</td>\n",
              "      <td>0</td>\n",
              "      <td>1</td>\n",
              "      <td>0</td>\n",
              "      <td>0</td>\n",
              "      <td>...</td>\n",
              "      <td>0</td>\n",
              "      <td>0</td>\n",
              "      <td>1</td>\n",
              "      <td>0</td>\n",
              "      <td>0</td>\n",
              "      <td>1</td>\n",
              "      <td>0</td>\n",
              "      <td>2.616381</td>\n",
              "      <td>0</td>\n",
              "      <td>2</td>\n",
              "    </tr>\n",
              "    <tr>\n",
              "      <th>1</th>\n",
              "      <td>1</td>\n",
              "      <td>0</td>\n",
              "      <td>0</td>\n",
              "      <td>1</td>\n",
              "      <td>0</td>\n",
              "      <td>0</td>\n",
              "      <td>1</td>\n",
              "      <td>0</td>\n",
              "      <td>0</td>\n",
              "      <td>0</td>\n",
              "      <td>...</td>\n",
              "      <td>0</td>\n",
              "      <td>0</td>\n",
              "      <td>1</td>\n",
              "      <td>0</td>\n",
              "      <td>0</td>\n",
              "      <td>0</td>\n",
              "      <td>1</td>\n",
              "      <td>6.352530</td>\n",
              "      <td>1</td>\n",
              "      <td>0</td>\n",
              "    </tr>\n",
              "    <tr>\n",
              "      <th>2</th>\n",
              "      <td>2</td>\n",
              "      <td>0</td>\n",
              "      <td>0</td>\n",
              "      <td>1</td>\n",
              "      <td>0</td>\n",
              "      <td>0</td>\n",
              "      <td>0</td>\n",
              "      <td>0</td>\n",
              "      <td>1</td>\n",
              "      <td>0</td>\n",
              "      <td>...</td>\n",
              "      <td>0</td>\n",
              "      <td>0</td>\n",
              "      <td>1</td>\n",
              "      <td>0</td>\n",
              "      <td>0</td>\n",
              "      <td>0</td>\n",
              "      <td>1</td>\n",
              "      <td>4.974354</td>\n",
              "      <td>0</td>\n",
              "      <td>1</td>\n",
              "    </tr>\n",
              "    <tr>\n",
              "      <th>3</th>\n",
              "      <td>5</td>\n",
              "      <td>1</td>\n",
              "      <td>0</td>\n",
              "      <td>1</td>\n",
              "      <td>0</td>\n",
              "      <td>0</td>\n",
              "      <td>1</td>\n",
              "      <td>0</td>\n",
              "      <td>0</td>\n",
              "      <td>1</td>\n",
              "      <td>...</td>\n",
              "      <td>0</td>\n",
              "      <td>0</td>\n",
              "      <td>0</td>\n",
              "      <td>1</td>\n",
              "      <td>1</td>\n",
              "      <td>0</td>\n",
              "      <td>0</td>\n",
              "      <td>13.480284</td>\n",
              "      <td>0</td>\n",
              "      <td>0</td>\n",
              "    </tr>\n",
              "    <tr>\n",
              "      <th>4</th>\n",
              "      <td>4</td>\n",
              "      <td>0</td>\n",
              "      <td>0</td>\n",
              "      <td>1</td>\n",
              "      <td>0</td>\n",
              "      <td>0</td>\n",
              "      <td>1</td>\n",
              "      <td>0</td>\n",
              "      <td>0</td>\n",
              "      <td>0</td>\n",
              "      <td>...</td>\n",
              "      <td>0</td>\n",
              "      <td>0</td>\n",
              "      <td>0</td>\n",
              "      <td>0</td>\n",
              "      <td>0</td>\n",
              "      <td>0</td>\n",
              "      <td>1</td>\n",
              "      <td>9.776436</td>\n",
              "      <td>0</td>\n",
              "      <td>0</td>\n",
              "    </tr>\n",
              "  </tbody>\n",
              "</table>\n",
              "<p>5 rows × 47 columns</p>\n",
              "</div>\n",
              "    <div class=\"colab-df-buttons\">\n",
              "\n",
              "  <div class=\"colab-df-container\">\n",
              "    <button class=\"colab-df-convert\" onclick=\"convertToInteractive('df-80de7c38-d7c8-4bdd-809b-94a244c71bcd')\"\n",
              "            title=\"Convert this dataframe to an interactive table.\"\n",
              "            style=\"display:none;\">\n",
              "\n",
              "  <svg xmlns=\"http://www.w3.org/2000/svg\" height=\"24px\" viewBox=\"0 -960 960 960\">\n",
              "    <path d=\"M120-120v-720h720v720H120Zm60-500h600v-160H180v160Zm220 220h160v-160H400v160Zm0 220h160v-160H400v160ZM180-400h160v-160H180v160Zm440 0h160v-160H620v160ZM180-180h160v-160H180v160Zm440 0h160v-160H620v160Z\"/>\n",
              "  </svg>\n",
              "    </button>\n",
              "\n",
              "  <style>\n",
              "    .colab-df-container {\n",
              "      display:flex;\n",
              "      gap: 12px;\n",
              "    }\n",
              "\n",
              "    .colab-df-convert {\n",
              "      background-color: #E8F0FE;\n",
              "      border: none;\n",
              "      border-radius: 50%;\n",
              "      cursor: pointer;\n",
              "      display: none;\n",
              "      fill: #1967D2;\n",
              "      height: 32px;\n",
              "      padding: 0 0 0 0;\n",
              "      width: 32px;\n",
              "    }\n",
              "\n",
              "    .colab-df-convert:hover {\n",
              "      background-color: #E2EBFA;\n",
              "      box-shadow: 0px 1px 2px rgba(60, 64, 67, 0.3), 0px 1px 3px 1px rgba(60, 64, 67, 0.15);\n",
              "      fill: #174EA6;\n",
              "    }\n",
              "\n",
              "    .colab-df-buttons div {\n",
              "      margin-bottom: 4px;\n",
              "    }\n",
              "\n",
              "    [theme=dark] .colab-df-convert {\n",
              "      background-color: #3B4455;\n",
              "      fill: #D2E3FC;\n",
              "    }\n",
              "\n",
              "    [theme=dark] .colab-df-convert:hover {\n",
              "      background-color: #434B5C;\n",
              "      box-shadow: 0px 1px 3px 1px rgba(0, 0, 0, 0.15);\n",
              "      filter: drop-shadow(0px 1px 2px rgba(0, 0, 0, 0.3));\n",
              "      fill: #FFFFFF;\n",
              "    }\n",
              "  </style>\n",
              "\n",
              "    <script>\n",
              "      const buttonEl =\n",
              "        document.querySelector('#df-80de7c38-d7c8-4bdd-809b-94a244c71bcd button.colab-df-convert');\n",
              "      buttonEl.style.display =\n",
              "        google.colab.kernel.accessAllowed ? 'block' : 'none';\n",
              "\n",
              "      async function convertToInteractive(key) {\n",
              "        const element = document.querySelector('#df-80de7c38-d7c8-4bdd-809b-94a244c71bcd');\n",
              "        const dataTable =\n",
              "          await google.colab.kernel.invokeFunction('convertToInteractive',\n",
              "                                                    [key], {});\n",
              "        if (!dataTable) return;\n",
              "\n",
              "        const docLinkHtml = 'Like what you see? Visit the ' +\n",
              "          '<a target=\"_blank\" href=https://colab.research.google.com/notebooks/data_table.ipynb>data table notebook</a>'\n",
              "          + ' to learn more about interactive tables.';\n",
              "        element.innerHTML = '';\n",
              "        dataTable['output_type'] = 'display_data';\n",
              "        await google.colab.output.renderOutput(dataTable, element);\n",
              "        const docLink = document.createElement('div');\n",
              "        docLink.innerHTML = docLinkHtml;\n",
              "        element.appendChild(docLink);\n",
              "      }\n",
              "    </script>\n",
              "  </div>\n",
              "\n",
              "\n",
              "<div id=\"df-9b96f7f8-66f0-4975-b7ee-3f0c5d82c507\">\n",
              "  <button class=\"colab-df-quickchart\" onclick=\"quickchart('df-9b96f7f8-66f0-4975-b7ee-3f0c5d82c507')\"\n",
              "            title=\"Suggest charts.\"\n",
              "            style=\"display:none;\">\n",
              "\n",
              "<svg xmlns=\"http://www.w3.org/2000/svg\" height=\"24px\"viewBox=\"0 0 24 24\"\n",
              "     width=\"24px\">\n",
              "    <g>\n",
              "        <path d=\"M19 3H5c-1.1 0-2 .9-2 2v14c0 1.1.9 2 2 2h14c1.1 0 2-.9 2-2V5c0-1.1-.9-2-2-2zM9 17H7v-7h2v7zm4 0h-2V7h2v10zm4 0h-2v-4h2v4z\"/>\n",
              "    </g>\n",
              "</svg>\n",
              "  </button>\n",
              "\n",
              "<style>\n",
              "  .colab-df-quickchart {\n",
              "      --bg-color: #E8F0FE;\n",
              "      --fill-color: #1967D2;\n",
              "      --hover-bg-color: #E2EBFA;\n",
              "      --hover-fill-color: #174EA6;\n",
              "      --disabled-fill-color: #AAA;\n",
              "      --disabled-bg-color: #DDD;\n",
              "  }\n",
              "\n",
              "  [theme=dark] .colab-df-quickchart {\n",
              "      --bg-color: #3B4455;\n",
              "      --fill-color: #D2E3FC;\n",
              "      --hover-bg-color: #434B5C;\n",
              "      --hover-fill-color: #FFFFFF;\n",
              "      --disabled-bg-color: #3B4455;\n",
              "      --disabled-fill-color: #666;\n",
              "  }\n",
              "\n",
              "  .colab-df-quickchart {\n",
              "    background-color: var(--bg-color);\n",
              "    border: none;\n",
              "    border-radius: 50%;\n",
              "    cursor: pointer;\n",
              "    display: none;\n",
              "    fill: var(--fill-color);\n",
              "    height: 32px;\n",
              "    padding: 0;\n",
              "    width: 32px;\n",
              "  }\n",
              "\n",
              "  .colab-df-quickchart:hover {\n",
              "    background-color: var(--hover-bg-color);\n",
              "    box-shadow: 0 1px 2px rgba(60, 64, 67, 0.3), 0 1px 3px 1px rgba(60, 64, 67, 0.15);\n",
              "    fill: var(--button-hover-fill-color);\n",
              "  }\n",
              "\n",
              "  .colab-df-quickchart-complete:disabled,\n",
              "  .colab-df-quickchart-complete:disabled:hover {\n",
              "    background-color: var(--disabled-bg-color);\n",
              "    fill: var(--disabled-fill-color);\n",
              "    box-shadow: none;\n",
              "  }\n",
              "\n",
              "  .colab-df-spinner {\n",
              "    border: 2px solid var(--fill-color);\n",
              "    border-color: transparent;\n",
              "    border-bottom-color: var(--fill-color);\n",
              "    animation:\n",
              "      spin 1s steps(1) infinite;\n",
              "  }\n",
              "\n",
              "  @keyframes spin {\n",
              "    0% {\n",
              "      border-color: transparent;\n",
              "      border-bottom-color: var(--fill-color);\n",
              "      border-left-color: var(--fill-color);\n",
              "    }\n",
              "    20% {\n",
              "      border-color: transparent;\n",
              "      border-left-color: var(--fill-color);\n",
              "      border-top-color: var(--fill-color);\n",
              "    }\n",
              "    30% {\n",
              "      border-color: transparent;\n",
              "      border-left-color: var(--fill-color);\n",
              "      border-top-color: var(--fill-color);\n",
              "      border-right-color: var(--fill-color);\n",
              "    }\n",
              "    40% {\n",
              "      border-color: transparent;\n",
              "      border-right-color: var(--fill-color);\n",
              "      border-top-color: var(--fill-color);\n",
              "    }\n",
              "    60% {\n",
              "      border-color: transparent;\n",
              "      border-right-color: var(--fill-color);\n",
              "    }\n",
              "    80% {\n",
              "      border-color: transparent;\n",
              "      border-right-color: var(--fill-color);\n",
              "      border-bottom-color: var(--fill-color);\n",
              "    }\n",
              "    90% {\n",
              "      border-color: transparent;\n",
              "      border-bottom-color: var(--fill-color);\n",
              "    }\n",
              "  }\n",
              "</style>\n",
              "\n",
              "  <script>\n",
              "    async function quickchart(key) {\n",
              "      const quickchartButtonEl =\n",
              "        document.querySelector('#' + key + ' button');\n",
              "      quickchartButtonEl.disabled = true;  // To prevent multiple clicks.\n",
              "      quickchartButtonEl.classList.add('colab-df-spinner');\n",
              "      try {\n",
              "        const charts = await google.colab.kernel.invokeFunction(\n",
              "            'suggestCharts', [key], {});\n",
              "      } catch (error) {\n",
              "        console.error('Error during call to suggestCharts:', error);\n",
              "      }\n",
              "      quickchartButtonEl.classList.remove('colab-df-spinner');\n",
              "      quickchartButtonEl.classList.add('colab-df-quickchart-complete');\n",
              "    }\n",
              "    (() => {\n",
              "      let quickchartButtonEl =\n",
              "        document.querySelector('#df-9b96f7f8-66f0-4975-b7ee-3f0c5d82c507 button');\n",
              "      quickchartButtonEl.style.display =\n",
              "        google.colab.kernel.accessAllowed ? 'block' : 'none';\n",
              "    })();\n",
              "  </script>\n",
              "</div>\n",
              "    </div>\n",
              "  </div>\n"
            ]
          },
          "metadata": {},
          "execution_count": 214
        }
      ]
    },
    {
      "cell_type": "code",
      "source": [
        "# 클러스터별 데이터 개수\n",
        "tot_data.groupby('cluster').count()"
      ],
      "metadata": {
        "colab": {
          "base_uri": "https://localhost:8080/",
          "height": 273
        },
        "id": "LQgtAZo9ifxs",
        "outputId": "7a79bb5c-df58-4601-ac78-67286e37839c"
      },
      "execution_count": null,
      "outputs": [
        {
          "output_type": "execute_result",
          "data": {
            "text/plain": [
              "          AGE    성별    갱신  등록(계/피)_계약자  등록(계/피)_피보험자  고용상태_FALSE  고용상태_고용  \\\n",
              "cluster                                                                     \n",
              "0        5236  5236  5236         5236          5236        5236     5236   \n",
              "1        4189  4189  4189         4189          4189        4189     4189   \n",
              "2        2575  2575  2575         2575          2575        2575     2575   \n",
              "\n",
              "         고용상태_무직  고용상태_휴직  상품타입_고급  ...  자동차_SUV  자동차_고급차  자동차_스포츠카  자동차_일반세단  \\\n",
              "cluster                             ...                                         \n",
              "0           5236     5236     5236  ...     5236     5236      5236      5236   \n",
              "1           4189     4189     4189  ...     4189     4189      4189      4189   \n",
              "2           2575     2575     2575  ...     2575     2575      2575      2575   \n",
              "\n",
              "         자동차_컴팩트카  거주지사이즈_대  거주지사이즈_소  거주지사이즈_중  Willingness to pay/Stay   VOC  \n",
              "cluster                                                                         \n",
              "0            5236      5236      5236      5236                     5236  5236  \n",
              "1            4189      4189      4189      4189                     4189  4189  \n",
              "2            2575      2575      2575      2575                     2575  2575  \n",
              "\n",
              "[3 rows x 46 columns]"
            ],
            "text/html": [
              "\n",
              "  <div id=\"df-0472b1ab-b665-44ff-afbf-6ce19407d992\" class=\"colab-df-container\">\n",
              "    <div>\n",
              "<style scoped>\n",
              "    .dataframe tbody tr th:only-of-type {\n",
              "        vertical-align: middle;\n",
              "    }\n",
              "\n",
              "    .dataframe tbody tr th {\n",
              "        vertical-align: top;\n",
              "    }\n",
              "\n",
              "    .dataframe thead th {\n",
              "        text-align: right;\n",
              "    }\n",
              "</style>\n",
              "<table border=\"1\" class=\"dataframe\">\n",
              "  <thead>\n",
              "    <tr style=\"text-align: right;\">\n",
              "      <th></th>\n",
              "      <th>AGE</th>\n",
              "      <th>성별</th>\n",
              "      <th>갱신</th>\n",
              "      <th>등록(계/피)_계약자</th>\n",
              "      <th>등록(계/피)_피보험자</th>\n",
              "      <th>고용상태_FALSE</th>\n",
              "      <th>고용상태_고용</th>\n",
              "      <th>고용상태_무직</th>\n",
              "      <th>고용상태_휴직</th>\n",
              "      <th>상품타입_고급</th>\n",
              "      <th>...</th>\n",
              "      <th>자동차_SUV</th>\n",
              "      <th>자동차_고급차</th>\n",
              "      <th>자동차_스포츠카</th>\n",
              "      <th>자동차_일반세단</th>\n",
              "      <th>자동차_컴팩트카</th>\n",
              "      <th>거주지사이즈_대</th>\n",
              "      <th>거주지사이즈_소</th>\n",
              "      <th>거주지사이즈_중</th>\n",
              "      <th>Willingness to pay/Stay</th>\n",
              "      <th>VOC</th>\n",
              "    </tr>\n",
              "    <tr>\n",
              "      <th>cluster</th>\n",
              "      <th></th>\n",
              "      <th></th>\n",
              "      <th></th>\n",
              "      <th></th>\n",
              "      <th></th>\n",
              "      <th></th>\n",
              "      <th></th>\n",
              "      <th></th>\n",
              "      <th></th>\n",
              "      <th></th>\n",
              "      <th></th>\n",
              "      <th></th>\n",
              "      <th></th>\n",
              "      <th></th>\n",
              "      <th></th>\n",
              "      <th></th>\n",
              "      <th></th>\n",
              "      <th></th>\n",
              "      <th></th>\n",
              "      <th></th>\n",
              "      <th></th>\n",
              "    </tr>\n",
              "  </thead>\n",
              "  <tbody>\n",
              "    <tr>\n",
              "      <th>0</th>\n",
              "      <td>5236</td>\n",
              "      <td>5236</td>\n",
              "      <td>5236</td>\n",
              "      <td>5236</td>\n",
              "      <td>5236</td>\n",
              "      <td>5236</td>\n",
              "      <td>5236</td>\n",
              "      <td>5236</td>\n",
              "      <td>5236</td>\n",
              "      <td>5236</td>\n",
              "      <td>...</td>\n",
              "      <td>5236</td>\n",
              "      <td>5236</td>\n",
              "      <td>5236</td>\n",
              "      <td>5236</td>\n",
              "      <td>5236</td>\n",
              "      <td>5236</td>\n",
              "      <td>5236</td>\n",
              "      <td>5236</td>\n",
              "      <td>5236</td>\n",
              "      <td>5236</td>\n",
              "    </tr>\n",
              "    <tr>\n",
              "      <th>1</th>\n",
              "      <td>4189</td>\n",
              "      <td>4189</td>\n",
              "      <td>4189</td>\n",
              "      <td>4189</td>\n",
              "      <td>4189</td>\n",
              "      <td>4189</td>\n",
              "      <td>4189</td>\n",
              "      <td>4189</td>\n",
              "      <td>4189</td>\n",
              "      <td>4189</td>\n",
              "      <td>...</td>\n",
              "      <td>4189</td>\n",
              "      <td>4189</td>\n",
              "      <td>4189</td>\n",
              "      <td>4189</td>\n",
              "      <td>4189</td>\n",
              "      <td>4189</td>\n",
              "      <td>4189</td>\n",
              "      <td>4189</td>\n",
              "      <td>4189</td>\n",
              "      <td>4189</td>\n",
              "    </tr>\n",
              "    <tr>\n",
              "      <th>2</th>\n",
              "      <td>2575</td>\n",
              "      <td>2575</td>\n",
              "      <td>2575</td>\n",
              "      <td>2575</td>\n",
              "      <td>2575</td>\n",
              "      <td>2575</td>\n",
              "      <td>2575</td>\n",
              "      <td>2575</td>\n",
              "      <td>2575</td>\n",
              "      <td>2575</td>\n",
              "      <td>...</td>\n",
              "      <td>2575</td>\n",
              "      <td>2575</td>\n",
              "      <td>2575</td>\n",
              "      <td>2575</td>\n",
              "      <td>2575</td>\n",
              "      <td>2575</td>\n",
              "      <td>2575</td>\n",
              "      <td>2575</td>\n",
              "      <td>2575</td>\n",
              "      <td>2575</td>\n",
              "    </tr>\n",
              "  </tbody>\n",
              "</table>\n",
              "<p>3 rows × 46 columns</p>\n",
              "</div>\n",
              "    <div class=\"colab-df-buttons\">\n",
              "\n",
              "  <div class=\"colab-df-container\">\n",
              "    <button class=\"colab-df-convert\" onclick=\"convertToInteractive('df-0472b1ab-b665-44ff-afbf-6ce19407d992')\"\n",
              "            title=\"Convert this dataframe to an interactive table.\"\n",
              "            style=\"display:none;\">\n",
              "\n",
              "  <svg xmlns=\"http://www.w3.org/2000/svg\" height=\"24px\" viewBox=\"0 -960 960 960\">\n",
              "    <path d=\"M120-120v-720h720v720H120Zm60-500h600v-160H180v160Zm220 220h160v-160H400v160Zm0 220h160v-160H400v160ZM180-400h160v-160H180v160Zm440 0h160v-160H620v160ZM180-180h160v-160H180v160Zm440 0h160v-160H620v160Z\"/>\n",
              "  </svg>\n",
              "    </button>\n",
              "\n",
              "  <style>\n",
              "    .colab-df-container {\n",
              "      display:flex;\n",
              "      gap: 12px;\n",
              "    }\n",
              "\n",
              "    .colab-df-convert {\n",
              "      background-color: #E8F0FE;\n",
              "      border: none;\n",
              "      border-radius: 50%;\n",
              "      cursor: pointer;\n",
              "      display: none;\n",
              "      fill: #1967D2;\n",
              "      height: 32px;\n",
              "      padding: 0 0 0 0;\n",
              "      width: 32px;\n",
              "    }\n",
              "\n",
              "    .colab-df-convert:hover {\n",
              "      background-color: #E2EBFA;\n",
              "      box-shadow: 0px 1px 2px rgba(60, 64, 67, 0.3), 0px 1px 3px 1px rgba(60, 64, 67, 0.15);\n",
              "      fill: #174EA6;\n",
              "    }\n",
              "\n",
              "    .colab-df-buttons div {\n",
              "      margin-bottom: 4px;\n",
              "    }\n",
              "\n",
              "    [theme=dark] .colab-df-convert {\n",
              "      background-color: #3B4455;\n",
              "      fill: #D2E3FC;\n",
              "    }\n",
              "\n",
              "    [theme=dark] .colab-df-convert:hover {\n",
              "      background-color: #434B5C;\n",
              "      box-shadow: 0px 1px 3px 1px rgba(0, 0, 0, 0.15);\n",
              "      filter: drop-shadow(0px 1px 2px rgba(0, 0, 0, 0.3));\n",
              "      fill: #FFFFFF;\n",
              "    }\n",
              "  </style>\n",
              "\n",
              "    <script>\n",
              "      const buttonEl =\n",
              "        document.querySelector('#df-0472b1ab-b665-44ff-afbf-6ce19407d992 button.colab-df-convert');\n",
              "      buttonEl.style.display =\n",
              "        google.colab.kernel.accessAllowed ? 'block' : 'none';\n",
              "\n",
              "      async function convertToInteractive(key) {\n",
              "        const element = document.querySelector('#df-0472b1ab-b665-44ff-afbf-6ce19407d992');\n",
              "        const dataTable =\n",
              "          await google.colab.kernel.invokeFunction('convertToInteractive',\n",
              "                                                    [key], {});\n",
              "        if (!dataTable) return;\n",
              "\n",
              "        const docLinkHtml = 'Like what you see? Visit the ' +\n",
              "          '<a target=\"_blank\" href=https://colab.research.google.com/notebooks/data_table.ipynb>data table notebook</a>'\n",
              "          + ' to learn more about interactive tables.';\n",
              "        element.innerHTML = '';\n",
              "        dataTable['output_type'] = 'display_data';\n",
              "        await google.colab.output.renderOutput(dataTable, element);\n",
              "        const docLink = document.createElement('div');\n",
              "        docLink.innerHTML = docLinkHtml;\n",
              "        element.appendChild(docLink);\n",
              "      }\n",
              "    </script>\n",
              "  </div>\n",
              "\n",
              "\n",
              "<div id=\"df-8194241a-99db-4191-b14d-062111fbad2c\">\n",
              "  <button class=\"colab-df-quickchart\" onclick=\"quickchart('df-8194241a-99db-4191-b14d-062111fbad2c')\"\n",
              "            title=\"Suggest charts.\"\n",
              "            style=\"display:none;\">\n",
              "\n",
              "<svg xmlns=\"http://www.w3.org/2000/svg\" height=\"24px\"viewBox=\"0 0 24 24\"\n",
              "     width=\"24px\">\n",
              "    <g>\n",
              "        <path d=\"M19 3H5c-1.1 0-2 .9-2 2v14c0 1.1.9 2 2 2h14c1.1 0 2-.9 2-2V5c0-1.1-.9-2-2-2zM9 17H7v-7h2v7zm4 0h-2V7h2v10zm4 0h-2v-4h2v4z\"/>\n",
              "    </g>\n",
              "</svg>\n",
              "  </button>\n",
              "\n",
              "<style>\n",
              "  .colab-df-quickchart {\n",
              "      --bg-color: #E8F0FE;\n",
              "      --fill-color: #1967D2;\n",
              "      --hover-bg-color: #E2EBFA;\n",
              "      --hover-fill-color: #174EA6;\n",
              "      --disabled-fill-color: #AAA;\n",
              "      --disabled-bg-color: #DDD;\n",
              "  }\n",
              "\n",
              "  [theme=dark] .colab-df-quickchart {\n",
              "      --bg-color: #3B4455;\n",
              "      --fill-color: #D2E3FC;\n",
              "      --hover-bg-color: #434B5C;\n",
              "      --hover-fill-color: #FFFFFF;\n",
              "      --disabled-bg-color: #3B4455;\n",
              "      --disabled-fill-color: #666;\n",
              "  }\n",
              "\n",
              "  .colab-df-quickchart {\n",
              "    background-color: var(--bg-color);\n",
              "    border: none;\n",
              "    border-radius: 50%;\n",
              "    cursor: pointer;\n",
              "    display: none;\n",
              "    fill: var(--fill-color);\n",
              "    height: 32px;\n",
              "    padding: 0;\n",
              "    width: 32px;\n",
              "  }\n",
              "\n",
              "  .colab-df-quickchart:hover {\n",
              "    background-color: var(--hover-bg-color);\n",
              "    box-shadow: 0 1px 2px rgba(60, 64, 67, 0.3), 0 1px 3px 1px rgba(60, 64, 67, 0.15);\n",
              "    fill: var(--button-hover-fill-color);\n",
              "  }\n",
              "\n",
              "  .colab-df-quickchart-complete:disabled,\n",
              "  .colab-df-quickchart-complete:disabled:hover {\n",
              "    background-color: var(--disabled-bg-color);\n",
              "    fill: var(--disabled-fill-color);\n",
              "    box-shadow: none;\n",
              "  }\n",
              "\n",
              "  .colab-df-spinner {\n",
              "    border: 2px solid var(--fill-color);\n",
              "    border-color: transparent;\n",
              "    border-bottom-color: var(--fill-color);\n",
              "    animation:\n",
              "      spin 1s steps(1) infinite;\n",
              "  }\n",
              "\n",
              "  @keyframes spin {\n",
              "    0% {\n",
              "      border-color: transparent;\n",
              "      border-bottom-color: var(--fill-color);\n",
              "      border-left-color: var(--fill-color);\n",
              "    }\n",
              "    20% {\n",
              "      border-color: transparent;\n",
              "      border-left-color: var(--fill-color);\n",
              "      border-top-color: var(--fill-color);\n",
              "    }\n",
              "    30% {\n",
              "      border-color: transparent;\n",
              "      border-left-color: var(--fill-color);\n",
              "      border-top-color: var(--fill-color);\n",
              "      border-right-color: var(--fill-color);\n",
              "    }\n",
              "    40% {\n",
              "      border-color: transparent;\n",
              "      border-right-color: var(--fill-color);\n",
              "      border-top-color: var(--fill-color);\n",
              "    }\n",
              "    60% {\n",
              "      border-color: transparent;\n",
              "      border-right-color: var(--fill-color);\n",
              "    }\n",
              "    80% {\n",
              "      border-color: transparent;\n",
              "      border-right-color: var(--fill-color);\n",
              "      border-bottom-color: var(--fill-color);\n",
              "    }\n",
              "    90% {\n",
              "      border-color: transparent;\n",
              "      border-bottom-color: var(--fill-color);\n",
              "    }\n",
              "  }\n",
              "</style>\n",
              "\n",
              "  <script>\n",
              "    async function quickchart(key) {\n",
              "      const quickchartButtonEl =\n",
              "        document.querySelector('#' + key + ' button');\n",
              "      quickchartButtonEl.disabled = true;  // To prevent multiple clicks.\n",
              "      quickchartButtonEl.classList.add('colab-df-spinner');\n",
              "      try {\n",
              "        const charts = await google.colab.kernel.invokeFunction(\n",
              "            'suggestCharts', [key], {});\n",
              "      } catch (error) {\n",
              "        console.error('Error during call to suggestCharts:', error);\n",
              "      }\n",
              "      quickchartButtonEl.classList.remove('colab-df-spinner');\n",
              "      quickchartButtonEl.classList.add('colab-df-quickchart-complete');\n",
              "    }\n",
              "    (() => {\n",
              "      let quickchartButtonEl =\n",
              "        document.querySelector('#df-8194241a-99db-4191-b14d-062111fbad2c button');\n",
              "      quickchartButtonEl.style.display =\n",
              "        google.colab.kernel.accessAllowed ? 'block' : 'none';\n",
              "    })();\n",
              "  </script>\n",
              "</div>\n",
              "    </div>\n",
              "  </div>\n"
            ]
          },
          "metadata": {},
          "execution_count": 216
        }
      ]
    },
    {
      "cell_type": "code",
      "source": [
        "# 차원축소\n",
        "from sklearn.decomposition import PCA\n",
        "X = tot_data_scaled.copy()\n",
        "\n",
        "pca = PCA(n_components=2)\n",
        "\n",
        "pca.fit(X)\n",
        "x_pca = pca.transform(X)\n",
        "x_pca"
      ],
      "metadata": {
        "colab": {
          "base_uri": "https://localhost:8080/"
        },
        "id": "R88M3kaMiffg",
        "outputId": "59b3f6a0-d40e-4a69-d591-18bbdfe89d0b"
      },
      "execution_count": null,
      "outputs": [
        {
          "output_type": "execute_result",
          "data": {
            "text/plain": [
              "array([[ 3.73422571,  2.2594435 ],\n",
              "       [-0.95850346, -1.26582297],\n",
              "       [-1.09317454,  0.55429096],\n",
              "       ...,\n",
              "       [ 3.6245167 ,  2.93133343],\n",
              "       [-1.1514768 , -0.61320521],\n",
              "       [ 3.75887454,  1.99322334]])"
            ]
          },
          "metadata": {},
          "execution_count": 219
        }
      ]
    },
    {
      "cell_type": "code",
      "source": [
        "pca_df = pd.DataFrame(x_pca)\n",
        "pca_df['cluster'] = tot_data['cluster']\n",
        "pca_df.head()"
      ],
      "metadata": {
        "colab": {
          "base_uri": "https://localhost:8080/",
          "height": 206
        },
        "id": "IdnkVRUKifWd",
        "outputId": "d0c34d47-c976-4103-c20d-16982be69328"
      },
      "execution_count": null,
      "outputs": [
        {
          "output_type": "execute_result",
          "data": {
            "text/plain": [
              "          0         1  cluster\n",
              "0  3.734226  2.259443        2\n",
              "1 -0.958503 -1.265823        0\n",
              "2 -1.093175  0.554291        1\n",
              "3 -1.124497  0.368917        0\n",
              "4 -1.034125 -1.209106        0"
            ],
            "text/html": [
              "\n",
              "  <div id=\"df-bacae96c-c3f3-4bad-a68e-6983924cb687\" class=\"colab-df-container\">\n",
              "    <div>\n",
              "<style scoped>\n",
              "    .dataframe tbody tr th:only-of-type {\n",
              "        vertical-align: middle;\n",
              "    }\n",
              "\n",
              "    .dataframe tbody tr th {\n",
              "        vertical-align: top;\n",
              "    }\n",
              "\n",
              "    .dataframe thead th {\n",
              "        text-align: right;\n",
              "    }\n",
              "</style>\n",
              "<table border=\"1\" class=\"dataframe\">\n",
              "  <thead>\n",
              "    <tr style=\"text-align: right;\">\n",
              "      <th></th>\n",
              "      <th>0</th>\n",
              "      <th>1</th>\n",
              "      <th>cluster</th>\n",
              "    </tr>\n",
              "  </thead>\n",
              "  <tbody>\n",
              "    <tr>\n",
              "      <th>0</th>\n",
              "      <td>3.734226</td>\n",
              "      <td>2.259443</td>\n",
              "      <td>2</td>\n",
              "    </tr>\n",
              "    <tr>\n",
              "      <th>1</th>\n",
              "      <td>-0.958503</td>\n",
              "      <td>-1.265823</td>\n",
              "      <td>0</td>\n",
              "    </tr>\n",
              "    <tr>\n",
              "      <th>2</th>\n",
              "      <td>-1.093175</td>\n",
              "      <td>0.554291</td>\n",
              "      <td>1</td>\n",
              "    </tr>\n",
              "    <tr>\n",
              "      <th>3</th>\n",
              "      <td>-1.124497</td>\n",
              "      <td>0.368917</td>\n",
              "      <td>0</td>\n",
              "    </tr>\n",
              "    <tr>\n",
              "      <th>4</th>\n",
              "      <td>-1.034125</td>\n",
              "      <td>-1.209106</td>\n",
              "      <td>0</td>\n",
              "    </tr>\n",
              "  </tbody>\n",
              "</table>\n",
              "</div>\n",
              "    <div class=\"colab-df-buttons\">\n",
              "\n",
              "  <div class=\"colab-df-container\">\n",
              "    <button class=\"colab-df-convert\" onclick=\"convertToInteractive('df-bacae96c-c3f3-4bad-a68e-6983924cb687')\"\n",
              "            title=\"Convert this dataframe to an interactive table.\"\n",
              "            style=\"display:none;\">\n",
              "\n",
              "  <svg xmlns=\"http://www.w3.org/2000/svg\" height=\"24px\" viewBox=\"0 -960 960 960\">\n",
              "    <path d=\"M120-120v-720h720v720H120Zm60-500h600v-160H180v160Zm220 220h160v-160H400v160Zm0 220h160v-160H400v160ZM180-400h160v-160H180v160Zm440 0h160v-160H620v160ZM180-180h160v-160H180v160Zm440 0h160v-160H620v160Z\"/>\n",
              "  </svg>\n",
              "    </button>\n",
              "\n",
              "  <style>\n",
              "    .colab-df-container {\n",
              "      display:flex;\n",
              "      gap: 12px;\n",
              "    }\n",
              "\n",
              "    .colab-df-convert {\n",
              "      background-color: #E8F0FE;\n",
              "      border: none;\n",
              "      border-radius: 50%;\n",
              "      cursor: pointer;\n",
              "      display: none;\n",
              "      fill: #1967D2;\n",
              "      height: 32px;\n",
              "      padding: 0 0 0 0;\n",
              "      width: 32px;\n",
              "    }\n",
              "\n",
              "    .colab-df-convert:hover {\n",
              "      background-color: #E2EBFA;\n",
              "      box-shadow: 0px 1px 2px rgba(60, 64, 67, 0.3), 0px 1px 3px 1px rgba(60, 64, 67, 0.15);\n",
              "      fill: #174EA6;\n",
              "    }\n",
              "\n",
              "    .colab-df-buttons div {\n",
              "      margin-bottom: 4px;\n",
              "    }\n",
              "\n",
              "    [theme=dark] .colab-df-convert {\n",
              "      background-color: #3B4455;\n",
              "      fill: #D2E3FC;\n",
              "    }\n",
              "\n",
              "    [theme=dark] .colab-df-convert:hover {\n",
              "      background-color: #434B5C;\n",
              "      box-shadow: 0px 1px 3px 1px rgba(0, 0, 0, 0.15);\n",
              "      filter: drop-shadow(0px 1px 2px rgba(0, 0, 0, 0.3));\n",
              "      fill: #FFFFFF;\n",
              "    }\n",
              "  </style>\n",
              "\n",
              "    <script>\n",
              "      const buttonEl =\n",
              "        document.querySelector('#df-bacae96c-c3f3-4bad-a68e-6983924cb687 button.colab-df-convert');\n",
              "      buttonEl.style.display =\n",
              "        google.colab.kernel.accessAllowed ? 'block' : 'none';\n",
              "\n",
              "      async function convertToInteractive(key) {\n",
              "        const element = document.querySelector('#df-bacae96c-c3f3-4bad-a68e-6983924cb687');\n",
              "        const dataTable =\n",
              "          await google.colab.kernel.invokeFunction('convertToInteractive',\n",
              "                                                    [key], {});\n",
              "        if (!dataTable) return;\n",
              "\n",
              "        const docLinkHtml = 'Like what you see? Visit the ' +\n",
              "          '<a target=\"_blank\" href=https://colab.research.google.com/notebooks/data_table.ipynb>data table notebook</a>'\n",
              "          + ' to learn more about interactive tables.';\n",
              "        element.innerHTML = '';\n",
              "        dataTable['output_type'] = 'display_data';\n",
              "        await google.colab.output.renderOutput(dataTable, element);\n",
              "        const docLink = document.createElement('div');\n",
              "        docLink.innerHTML = docLinkHtml;\n",
              "        element.appendChild(docLink);\n",
              "      }\n",
              "    </script>\n",
              "  </div>\n",
              "\n",
              "\n",
              "<div id=\"df-1113c997-1b28-4b6e-82b1-fe87db03496d\">\n",
              "  <button class=\"colab-df-quickchart\" onclick=\"quickchart('df-1113c997-1b28-4b6e-82b1-fe87db03496d')\"\n",
              "            title=\"Suggest charts.\"\n",
              "            style=\"display:none;\">\n",
              "\n",
              "<svg xmlns=\"http://www.w3.org/2000/svg\" height=\"24px\"viewBox=\"0 0 24 24\"\n",
              "     width=\"24px\">\n",
              "    <g>\n",
              "        <path d=\"M19 3H5c-1.1 0-2 .9-2 2v14c0 1.1.9 2 2 2h14c1.1 0 2-.9 2-2V5c0-1.1-.9-2-2-2zM9 17H7v-7h2v7zm4 0h-2V7h2v10zm4 0h-2v-4h2v4z\"/>\n",
              "    </g>\n",
              "</svg>\n",
              "  </button>\n",
              "\n",
              "<style>\n",
              "  .colab-df-quickchart {\n",
              "      --bg-color: #E8F0FE;\n",
              "      --fill-color: #1967D2;\n",
              "      --hover-bg-color: #E2EBFA;\n",
              "      --hover-fill-color: #174EA6;\n",
              "      --disabled-fill-color: #AAA;\n",
              "      --disabled-bg-color: #DDD;\n",
              "  }\n",
              "\n",
              "  [theme=dark] .colab-df-quickchart {\n",
              "      --bg-color: #3B4455;\n",
              "      --fill-color: #D2E3FC;\n",
              "      --hover-bg-color: #434B5C;\n",
              "      --hover-fill-color: #FFFFFF;\n",
              "      --disabled-bg-color: #3B4455;\n",
              "      --disabled-fill-color: #666;\n",
              "  }\n",
              "\n",
              "  .colab-df-quickchart {\n",
              "    background-color: var(--bg-color);\n",
              "    border: none;\n",
              "    border-radius: 50%;\n",
              "    cursor: pointer;\n",
              "    display: none;\n",
              "    fill: var(--fill-color);\n",
              "    height: 32px;\n",
              "    padding: 0;\n",
              "    width: 32px;\n",
              "  }\n",
              "\n",
              "  .colab-df-quickchart:hover {\n",
              "    background-color: var(--hover-bg-color);\n",
              "    box-shadow: 0 1px 2px rgba(60, 64, 67, 0.3), 0 1px 3px 1px rgba(60, 64, 67, 0.15);\n",
              "    fill: var(--button-hover-fill-color);\n",
              "  }\n",
              "\n",
              "  .colab-df-quickchart-complete:disabled,\n",
              "  .colab-df-quickchart-complete:disabled:hover {\n",
              "    background-color: var(--disabled-bg-color);\n",
              "    fill: var(--disabled-fill-color);\n",
              "    box-shadow: none;\n",
              "  }\n",
              "\n",
              "  .colab-df-spinner {\n",
              "    border: 2px solid var(--fill-color);\n",
              "    border-color: transparent;\n",
              "    border-bottom-color: var(--fill-color);\n",
              "    animation:\n",
              "      spin 1s steps(1) infinite;\n",
              "  }\n",
              "\n",
              "  @keyframes spin {\n",
              "    0% {\n",
              "      border-color: transparent;\n",
              "      border-bottom-color: var(--fill-color);\n",
              "      border-left-color: var(--fill-color);\n",
              "    }\n",
              "    20% {\n",
              "      border-color: transparent;\n",
              "      border-left-color: var(--fill-color);\n",
              "      border-top-color: var(--fill-color);\n",
              "    }\n",
              "    30% {\n",
              "      border-color: transparent;\n",
              "      border-left-color: var(--fill-color);\n",
              "      border-top-color: var(--fill-color);\n",
              "      border-right-color: var(--fill-color);\n",
              "    }\n",
              "    40% {\n",
              "      border-color: transparent;\n",
              "      border-right-color: var(--fill-color);\n",
              "      border-top-color: var(--fill-color);\n",
              "    }\n",
              "    60% {\n",
              "      border-color: transparent;\n",
              "      border-right-color: var(--fill-color);\n",
              "    }\n",
              "    80% {\n",
              "      border-color: transparent;\n",
              "      border-right-color: var(--fill-color);\n",
              "      border-bottom-color: var(--fill-color);\n",
              "    }\n",
              "    90% {\n",
              "      border-color: transparent;\n",
              "      border-bottom-color: var(--fill-color);\n",
              "    }\n",
              "  }\n",
              "</style>\n",
              "\n",
              "  <script>\n",
              "    async function quickchart(key) {\n",
              "      const quickchartButtonEl =\n",
              "        document.querySelector('#' + key + ' button');\n",
              "      quickchartButtonEl.disabled = true;  // To prevent multiple clicks.\n",
              "      quickchartButtonEl.classList.add('colab-df-spinner');\n",
              "      try {\n",
              "        const charts = await google.colab.kernel.invokeFunction(\n",
              "            'suggestCharts', [key], {});\n",
              "      } catch (error) {\n",
              "        console.error('Error during call to suggestCharts:', error);\n",
              "      }\n",
              "      quickchartButtonEl.classList.remove('colab-df-spinner');\n",
              "      quickchartButtonEl.classList.add('colab-df-quickchart-complete');\n",
              "    }\n",
              "    (() => {\n",
              "      let quickchartButtonEl =\n",
              "        document.querySelector('#df-1113c997-1b28-4b6e-82b1-fe87db03496d button');\n",
              "      quickchartButtonEl.style.display =\n",
              "        google.colab.kernel.accessAllowed ? 'block' : 'none';\n",
              "    })();\n",
              "  </script>\n",
              "</div>\n",
              "    </div>\n",
              "  </div>\n"
            ]
          },
          "metadata": {},
          "execution_count": 220
        }
      ]
    },
    {
      "cell_type": "code",
      "source": [
        "# 시각화\n",
        "\n",
        "axs = plt.subplots()\n",
        "axs = sns.scatterplot(x=0, y=1, hue='cluster', data=pca_df)"
      ],
      "metadata": {
        "colab": {
          "base_uri": "https://localhost:8080/",
          "height": 449
        },
        "id": "ktT7GfTZifMv",
        "outputId": "b82e8379-8d89-4afb-9382-1f6f23c2190c"
      },
      "execution_count": null,
      "outputs": [
        {
          "output_type": "display_data",
          "data": {
            "text/plain": [
              "<Figure size 640x480 with 1 Axes>"
            ],
            "image/png": "[encoded data removed]"
          },
          "metadata": {}
        }
      ]
    },
    {
      "cell_type": "markdown",
      "source": [
        "# 3. 클러스터별 특징 분석"
      ],
      "metadata": {
        "id": "XKQiODwBqu27"
      }
    },
    {
      "cell_type": "code",
      "source": [
        "cluster_0 = tot_data.loc[tot_data['cluster']==0, :]\n",
        "cluster_1 = tot_data.loc[tot_data['cluster']==1, :]\n",
        "cluster_2 = tot_data.loc[tot_data['cluster']==2, :]"
      ],
      "metadata": {
        "id": "u2DPfvjYz9Dm"
      },
      "execution_count": null,
      "outputs": []
    },
    {
      "cell_type": "markdown",
      "source": [
        "## cluster 0"
      ],
      "metadata": {
        "id": "5yU5FOffFPvo"
      }
    },
    {
      "cell_type": "markdown",
      "source": [
        "### Willingness to pay/Stay"
      ],
      "metadata": {
        "id": "60b0c-5gcqKK"
      }
    },
    {
      "cell_type": "code",
      "source": [
        "cluster_0['Willingness to pay/Stay'].mean()"
      ],
      "metadata": {
        "colab": {
          "base_uri": "https://localhost:8080/"
        },
        "id": "gFSmCsQYcpvK",
        "outputId": "44c92d54-dca7-4b06-ebcd-4aa9fb4e6a59"
      },
      "execution_count": null,
      "outputs": [
        {
          "output_type": "execute_result",
          "data": {
            "text/plain": [
              "8.965608241214667"
            ]
          },
          "metadata": {},
          "execution_count": 227
        }
      ]
    },
    {
      "cell_type": "markdown",
      "source": [
        "### VOC"
      ],
      "metadata": {
        "id": "2KxJE5nXd2u8"
      }
    },
    {
      "cell_type": "code",
      "source": [
        "cluster_0['VOC'].mean()"
      ],
      "metadata": {
        "colab": {
          "base_uri": "https://localhost:8080/"
        },
        "outputId": "16784940-cc07-417e-ee47-ae0338a263d0",
        "id": "O3g203bWd2vJ"
      },
      "execution_count": null,
      "outputs": [
        {
          "output_type": "execute_result",
          "data": {
            "text/plain": [
              "0.39744079449961806"
            ]
          },
          "metadata": {},
          "execution_count": 228
        }
      ]
    },
    {
      "cell_type": "markdown",
      "source": [
        "### AGE"
      ],
      "metadata": {
        "id": "XFGmmCLmFluk"
      }
    },
    {
      "cell_type": "code",
      "source": [
        "cluster_0['AGE'].unique()"
      ],
      "metadata": {
        "colab": {
          "base_uri": "https://localhost:8080/"
        },
        "id": "6TshPicuFPYm",
        "outputId": "073f3ea2-9205-4046-bc04-3b61282411bc"
      },
      "execution_count": null,
      "outputs": [
        {
          "output_type": "execute_result",
          "data": {
            "text/plain": [
              "array([1, 5, 4, 3, 2, 6])"
            ]
          },
          "metadata": {},
          "execution_count": 229
        }
      ]
    },
    {
      "cell_type": "code",
      "source": [
        "for i in range(1, 7):\n",
        "    print(f'AGE({i}) :', round((len(cluster_0.loc[cluster_0['AGE']==i, 'AGE']) / len(cluster_0['AGE']))*100, 2), '%')"
      ],
      "metadata": {
        "colab": {
          "base_uri": "https://localhost:8080/"
        },
        "id": "bpbDeMpiFu2r",
        "outputId": "0c8b5165-7773-4039-b573-dc6d9ba8d9f8"
      },
      "execution_count": null,
      "outputs": [
        {
          "output_type": "stream",
          "name": "stdout",
          "text": [
            "AGE(1) : 20.26 %\n",
            "AGE(2) : 14.21 %\n",
            "AGE(3) : 22.08 %\n",
            "AGE(4) : 31.57 %\n",
            "AGE(5) : 11.38 %\n",
            "AGE(6) : 0.5 %\n"
          ]
        }
      ]
    },
    {
      "cell_type": "markdown",
      "source": [
        "### 성별"
      ],
      "metadata": {
        "id": "5TjxnsshIuMX"
      }
    },
    {
      "cell_type": "code",
      "source": [
        "cluster_0['성별'].unique()"
      ],
      "metadata": {
        "colab": {
          "base_uri": "https://localhost:8080/"
        },
        "id": "faTN98MyG__H",
        "outputId": "9e8800ec-70b8-405c-ec38-22459b094182"
      },
      "execution_count": null,
      "outputs": [
        {
          "output_type": "execute_result",
          "data": {
            "text/plain": [
              "array([0, 1])"
            ]
          },
          "metadata": {},
          "execution_count": 231
        }
      ]
    },
    {
      "cell_type": "code",
      "source": [
        "for i in range(0, 2):\n",
        "    print(f'성별({i}) :', round((len(cluster_0.loc[cluster_0['성별']==i, '성별']) / len(cluster_0['성별']))*100, 2), '%')"
      ],
      "metadata": {
        "colab": {
          "base_uri": "https://localhost:8080/"
        },
        "id": "x3JmKJ5YI5Qv",
        "outputId": "9ec02690-aefb-4ca1-e714-1b08986ddc7a"
      },
      "execution_count": null,
      "outputs": [
        {
          "output_type": "stream",
          "name": "stdout",
          "text": [
            "성별(0) : 53.76 %\n",
            "성별(1) : 46.24 %\n"
          ]
        }
      ]
    },
    {
      "cell_type": "markdown",
      "source": [
        "### 등록(계/피)"
      ],
      "metadata": {
        "id": "oNZsKUozJFry"
      }
    },
    {
      "cell_type": "code",
      "source": [
        "print(f'등록(계약자) :', round((len(cluster_0.loc[cluster_0['등록(계/피)_계약자']==1, '등록(계/피)_계약자']) / len(cluster_0['등록(계/피)_계약자']))*100, 2), '%')\n",
        "print(f'등록(피보험자) :', round((len(cluster_0.loc[cluster_0['등록(계/피)_피보험자']==1, '등록(계/피)_피보험자']) / len(cluster_0['등록(계/피)_피보험자']))*100, 2), '%')"
      ],
      "metadata": {
        "colab": {
          "base_uri": "https://localhost:8080/"
        },
        "id": "hvwgOYhWJBx7",
        "outputId": "c195297d-84f4-4485-c6b4-8f1ba13bc03f"
      },
      "execution_count": null,
      "outputs": [
        {
          "output_type": "stream",
          "name": "stdout",
          "text": [
            "등록(계약자) : 100.0 %\n",
            "등록(피보험자) : 0.0 %\n"
          ]
        }
      ]
    },
    {
      "cell_type": "markdown",
      "source": [
        "### 고용상태"
      ],
      "metadata": {
        "id": "yba8dPHNJs3Q"
      }
    },
    {
      "cell_type": "code",
      "source": [
        "print(f'고용상태(무직) :', round((len(cluster_0.loc[cluster_0['고용상태_무직']==1, '고용상태_무직']) / len(cluster_0['고용상태_무직']))*100, 2), '%')\n",
        "print(f'고용상태(휴직) :', round((len(cluster_0.loc[cluster_0['고용상태_휴직']==1, '고용상태_휴직']) / len(cluster_0['고용상태_휴직']))*100, 2), '%')\n",
        "print(f'고용상태(고용) :', round((len(cluster_0.loc[cluster_0['고용상태_고용']==1, '고용상태_고용']) / len(cluster_0['고용상태_고용']))*100, 2), '%')\n",
        "print(f'고용상태(FALSE) :', round((len(cluster_0.loc[cluster_0['고용상태_FALSE']==1, '고용상태_FALSE']) / len(cluster_0['고용상태_FALSE']))*100, 2), '%')"
      ],
      "metadata": {
        "colab": {
          "base_uri": "https://localhost:8080/"
        },
        "id": "plJhJkxyJdhQ",
        "outputId": "189492a4-8b6f-4269-f8b5-30e0c8cbf8a2"
      },
      "execution_count": null,
      "outputs": [
        {
          "output_type": "stream",
          "name": "stdout",
          "text": [
            "고용상태(무직) : 3.27 %\n",
            "고용상태(휴직) : 1.87 %\n",
            "고용상태(고용) : 94.71 %\n",
            "고용상태(FALSE) : 0.15 %\n"
          ]
        }
      ]
    },
    {
      "cell_type": "markdown",
      "source": [
        "### 상품타입"
      ],
      "metadata": {
        "id": "_NuGX7dKKzkj"
      }
    },
    {
      "cell_type": "code",
      "source": [
        "print(f'상품타입(기본) :', round((len(cluster_0.loc[cluster_0['상품타입_기본']==1, '상품타입_기본']) / len(cluster_0['상품타입_기본']))*100, 2), '%')\n",
        "print(f'상품타입(중급) :', round((len(cluster_0.loc[cluster_0['상품타입_중급']==1, '상품타입_중급']) / len(cluster_0['상품타입_중급']))*100, 2), '%')\n",
        "print(f'상품타입(고급) :', round((len(cluster_0.loc[cluster_0['상품타입_고급']==1, '상품타입_고급']) / len(cluster_0['상품타입_고급']))*100, 2), '%')"
      ],
      "metadata": {
        "colab": {
          "base_uri": "https://localhost:8080/"
        },
        "id": "b0EjCaJLKYK0",
        "outputId": "60d8ceac-4ba4-40b6-8a9d-fc6451658ca5"
      },
      "execution_count": null,
      "outputs": [
        {
          "output_type": "stream",
          "name": "stdout",
          "text": [
            "상품타입(기본) : 61.38 %\n",
            "상품타입(중급) : 30.18 %\n",
            "상품타입(고급) : 8.44 %\n"
          ]
        }
      ]
    },
    {
      "cell_type": "markdown",
      "source": [
        "### 교육수준"
      ],
      "metadata": {
        "id": "1v_Ge335LTG4"
      }
    },
    {
      "cell_type": "code",
      "source": [
        "print(f'교육수준(고졸이하) :', round((len(cluster_0.loc[cluster_0['교육수준_고졸이하']==1, '교육수준_고졸이하']) / len(cluster_0['교육수준_고졸이하']))*100, 2), '%')\n",
        "print(f'교육수준(대학졸업) :', round((len(cluster_0.loc[cluster_0['교육수준_대학졸업']==1, '교육수준_대학졸업']) / len(cluster_0['교육수준_대학졸업']))*100, 2), '%')\n",
        "print(f'교육수준(석사) :', round((len(cluster_0.loc[cluster_0['교육수준_석사']==1, '교육수준_석사']) / len(cluster_0['교육수준_석사']))*100, 2), '%')\n",
        "print(f'교육수준(박사) :', round((len(cluster_0.loc[cluster_0['교육수준_박사']==1, '교육수준_박사']) / len(cluster_0['교육수준_박사']))*100, 2), '%')"
      ],
      "metadata": {
        "colab": {
          "base_uri": "https://localhost:8080/"
        },
        "id": "nWtCinokLNDm",
        "outputId": "5b3d9676-c3a9-4f41-8786-401e6668e370"
      },
      "execution_count": null,
      "outputs": [
        {
          "output_type": "stream",
          "name": "stdout",
          "text": [
            "교육수준(고졸이하) : 25.25 %\n",
            "교육수준(대학졸업) : 58.9 %\n",
            "교육수준(석사) : 10.75 %\n",
            "교육수준(박사) : 5.1 %\n"
          ]
        }
      ]
    },
    {
      "cell_type": "markdown",
      "source": [
        "### 지역"
      ],
      "metadata": {
        "id": "2UPKvTzYOFa9"
      }
    },
    {
      "cell_type": "code",
      "source": [
        "print(f'지역(도심) :', round((len(cluster_0.loc[cluster_0['지역_도심']==1, '지역_도심']) / len(cluster_0['지역_도심']))*100, 2), '%')\n",
        "print(f'지역(도시근교) :', round((len(cluster_0.loc[cluster_0['지역_도시근교']==1, '지역_도시근교']) / len(cluster_0['지역_도시근교']))*100, 2), '%')\n",
        "print(f'지역(시골) :', round((len(cluster_0.loc[cluster_0['지역_시골']==1, '지역_시골']) / len(cluster_0['지역_시골']))*100, 2), '%')"
      ],
      "metadata": {
        "colab": {
          "base_uri": "https://localhost:8080/"
        },
        "id": "If_HF-5EN_xh",
        "outputId": "1f377aba-44c3-4482-b91b-3b02d27d82a9"
      },
      "execution_count": null,
      "outputs": [
        {
          "output_type": "stream",
          "name": "stdout",
          "text": [
            "지역(도심) : 30.54 %\n",
            "지역(도시근교) : 35.54 %\n",
            "지역(시골) : 33.92 %\n"
          ]
        }
      ]
    },
    {
      "cell_type": "markdown",
      "source": [
        "### 결혼여부"
      ],
      "metadata": {
        "id": "5Z7ZYCm6cI7S"
      }
    },
    {
      "cell_type": "code",
      "source": [
        "print(f'결혼여부(기혼) :', round((len(cluster_0.loc[cluster_0['결혼여부_기혼']==1, '결혼여부_기혼']) / len(cluster_0['결혼여부_기혼']))*100, 2), '%')\n",
        "print(f'결혼여부(미혼) :', round((len(cluster_0.loc[cluster_0['결혼여부_미혼']==1, '결혼여부_미혼']) / len(cluster_0['결혼여부_미혼']))*100, 2), '%')"
      ],
      "metadata": {
        "colab": {
          "base_uri": "https://localhost:8080/"
        },
        "id": "OYfOMc8sOcQI",
        "outputId": "26201db4-516f-448b-f89c-ba689fac8cc0"
      },
      "execution_count": null,
      "outputs": [
        {
          "output_type": "stream",
          "name": "stdout",
          "text": [
            "결혼여부(기혼) : 81.68 %\n",
            "결혼여부(미혼) : 18.32 %\n"
          ]
        }
      ]
    },
    {
      "cell_type": "markdown",
      "source": [
        "### 타 상품 보유 현황"
      ],
      "metadata": {
        "id": "1Jv2tekROz-C"
      }
    },
    {
      "cell_type": "code",
      "source": [
        "print(f'타 상품 보유 현황(1) :', round((len(cluster_0.loc[cluster_0['타 상품 보유 현황_1']==1, '타 상품 보유 현황_1']) / len(cluster_0['타 상품 보유 현황_1']))*100, 2), '%')\n",
        "print(f'타 상품 보유 현황(2) :', round((len(cluster_0.loc[cluster_0['타 상품 보유 현황_2']==1, '타 상품 보유 현황_2']) / len(cluster_0['타 상품 보유 현황_2']))*100, 2), '%')\n",
        "print(f'타 상품 보유 현황(3) :', round((len(cluster_0.loc[cluster_0['타 상품 보유 현황_3']==1, '타 상품 보유 현황_3']) / len(cluster_0['타 상품 보유 현황_3']))*100, 2), '%')\n",
        "print(f'타 상품 보유 현황(4이상) :', round((len(cluster_0.loc[cluster_0['타 상품 보유 현황_4이상']==1, '타 상품 보유 현황_4이상']) / len(cluster_0['타 상품 보유 현황_4이상']))*100, 2), '%')"
      ],
      "metadata": {
        "colab": {
          "base_uri": "https://localhost:8080/"
        },
        "id": "cudKPpzHOtIT",
        "outputId": "ec9cdd92-e5ca-47e3-9742-9dcb90455fa9"
      },
      "execution_count": null,
      "outputs": [
        {
          "output_type": "stream",
          "name": "stdout",
          "text": [
            "타 상품 보유 현황(1) : 35.89 %\n",
            "타 상품 보유 현황(2) : 24.85 %\n",
            "타 상품 보유 현황(3) : 13.12 %\n",
            "타 상품 보유 현황(4이상) : 26.15 %\n"
          ]
        }
      ]
    },
    {
      "cell_type": "markdown",
      "source": [
        "### 온라인방문빈도"
      ],
      "metadata": {
        "id": "cZbJd5amPPsd"
      }
    },
    {
      "cell_type": "code",
      "source": [
        "print(f'온라인방문빈도(비방문) :', round((len(cluster_0.loc[cluster_0['온라인방문빈도_비방문']==1, '온라인방문빈도_비방문']) / len(cluster_0['온라인방문빈도_비방문']))*100, 2), '%')\n",
        "print(f'온라인방문빈도(종종) :', round((len(cluster_0.loc[cluster_0['온라인방문빈도_종종']==1, '온라인방문빈도_종종']) / len(cluster_0['온라인방문빈도_종종']))*100, 2), '%')\n",
        "print(f'온라인방문빈도(자주방문) :', round((len(cluster_0.loc[cluster_0['온라인방문빈도_자주방문']==1, '온라인방문빈도_자주방문']) / len(cluster_0['온라인방문빈도_자주방문']))*100, 2), '%')"
      ],
      "metadata": {
        "colab": {
          "base_uri": "https://localhost:8080/"
        },
        "id": "Cutwl1IXPIqC",
        "outputId": "ea68ab9b-e21f-48ed-c52b-3cef42901e5b"
      },
      "execution_count": null,
      "outputs": [
        {
          "output_type": "stream",
          "name": "stdout",
          "text": [
            "온라인방문빈도(비방문) : 94.4 %\n",
            "온라인방문빈도(종종) : 5.6 %\n",
            "온라인방문빈도(자주방문) : 0.0 %\n"
          ]
        }
      ]
    },
    {
      "cell_type": "markdown",
      "source": [
        "### 갱신인센티브"
      ],
      "metadata": {
        "id": "Bj1I7nzzQCSF"
      }
    },
    {
      "cell_type": "code",
      "source": [
        "print(f'갱신인센티브(없음) :', round((len(cluster_0.loc[cluster_0['갱신인센티브_없음']==1, '갱신인센티브_없음']) / len(cluster_0['갱신인센티브_없음']))*100, 2), '%')\n",
        "print(f'갱신인센티브(포인트) :', round((len(cluster_0.loc[cluster_0['갱신인센티브_포인트']==1, '갱신인센티브_포인트']) / len(cluster_0['갱신인센티브_포인트']))*100, 2), '%')\n",
        "print(f'갱신인센티브(할인) :', round((len(cluster_0.loc[cluster_0['갱신인센티브_할인']==1, '갱신인센티브_할인']) / len(cluster_0['갱신인센티브_할인']))*100, 2), '%')\n",
        "print(f'갱신인센티브(설계사독려) :', round((len(cluster_0.loc[cluster_0['갱신인센티브_설계사독려']==1, '갱신인센티브_설계사독려']) / len(cluster_0['갱신인센티브_설계사독려']))*100, 2), '%')"
      ],
      "metadata": {
        "colab": {
          "base_uri": "https://localhost:8080/"
        },
        "id": "6MHxIzZSP4AV",
        "outputId": "0b380b28-3b78-4afa-eff7-5bf331885f6a"
      },
      "execution_count": null,
      "outputs": [
        {
          "output_type": "stream",
          "name": "stdout",
          "text": [
            "갱신인센티브(없음) : 13.43 %\n",
            "갱신인센티브(포인트) : 17.0 %\n",
            "갱신인센티브(할인) : 31.47 %\n",
            "갱신인센티브(설계사독려) : 38.1 %\n"
          ]
        }
      ]
    },
    {
      "cell_type": "markdown",
      "source": [
        "### 판매채널"
      ],
      "metadata": {
        "id": "vFkj5LpMQjHG"
      }
    },
    {
      "cell_type": "code",
      "source": [
        "print(f'판매채널(대리점) :', round((len(cluster_0.loc[cluster_0['판매채널_대리점']==1, '판매채널_대리점']) / len(cluster_0['판매채널_대리점']))*100, 2), '%')\n",
        "print(f'판매채널(인터넷) :', round((len(cluster_0.loc[cluster_0['판매채널_인터넷']==1, '판매채널_인터넷']) / len(cluster_0['판매채널_인터넷']))*100, 2), '%')\n",
        "print(f'판매채널(자사영업) :', round((len(cluster_0.loc[cluster_0['판매채널_자사영업']==1, '판매채널_자사영업']) / len(cluster_0['판매채널_자사영업']))*100, 2), '%')\n",
        "print(f'판매채널(콜센터) :', round((len(cluster_0.loc[cluster_0['판매채널_콜센터']==1, '판매채널_콜센터']) / len(cluster_0['판매채널_콜센터']))*100, 2), '%')"
      ],
      "metadata": {
        "colab": {
          "base_uri": "https://localhost:8080/"
        },
        "id": "osO2y_BVQete",
        "outputId": "8bb27056-ff6b-497e-e75c-c03b9d2abeb6"
      },
      "execution_count": null,
      "outputs": [
        {
          "output_type": "stream",
          "name": "stdout",
          "text": [
            "판매채널(대리점) : 36.57 %\n",
            "판매채널(인터넷) : 14.69 %\n",
            "판매채널(자사영업) : 29.16 %\n",
            "판매채널(콜센터) : 19.58 %\n"
          ]
        }
      ]
    },
    {
      "cell_type": "markdown",
      "source": [
        "### 자동차"
      ],
      "metadata": {
        "id": "UQI1acgPRAZd"
      }
    },
    {
      "cell_type": "code",
      "source": [
        "print(f'자동차(컴팩트카) :', round((len(cluster_0.loc[cluster_0['자동차_컴팩트카']==1, '자동차_컴팩트카']) / len(cluster_0['자동차_컴팩트카']))*100, 2), '%')\n",
        "print(f'자동차(일반세단) :', round((len(cluster_0.loc[cluster_0['자동차_일반세단']==1, '자동차_일반세단']) / len(cluster_0['자동차_일반세단']))*100, 2), '%')\n",
        "print(f'자동차(SUV) :', round((len(cluster_0.loc[cluster_0['자동차_SUV']==1, '자동차_SUV']) / len(cluster_0['자동차_SUV']))*100, 2), '%')\n",
        "print(f'자동차(스포츠카) :', round((len(cluster_0.loc[cluster_0['자동차_스포츠카']==1, '자동차_스포츠카']) / len(cluster_0['자동차_스포츠카']))*100, 2), '%')\n",
        "print(f'자동차(고급차) :', round((len(cluster_0.loc[cluster_0['자동차_고급차']==1, '자동차_고급차']) / len(cluster_0['자동차_고급차']))*100, 2), '%')"
      ],
      "metadata": {
        "colab": {
          "base_uri": "https://localhost:8080/"
        },
        "id": "EVs2GNLXRGEu",
        "outputId": "fbe9781b-47b1-4a2a-a5d8-c50a3c178ec7"
      },
      "execution_count": null,
      "outputs": [
        {
          "output_type": "stream",
          "name": "stdout",
          "text": [
            "자동차(컴팩트카) : 21.41 %\n",
            "자동차(일반세단) : 51.8 %\n",
            "자동차(SUV) : 18.66 %\n",
            "자동차(스포츠카) : 4.95 %\n",
            "자동차(고급차) : 3.19 %\n"
          ]
        }
      ]
    },
    {
      "cell_type": "markdown",
      "source": [
        "### 거주지사이즈"
      ],
      "metadata": {
        "id": "amFYH_EHRimH"
      }
    },
    {
      "cell_type": "code",
      "source": [
        "print(f'거주지사이즈(대) :', round((len(cluster_0.loc[cluster_0['거주지사이즈_대']==1, '거주지사이즈_대']) / len(cluster_0['거주지사이즈_대']))*100, 2), '%')\n",
        "print(f'거주지사이즈(중) :', round((len(cluster_0.loc[cluster_0['거주지사이즈_중']==1, '거주지사이즈_중']) / len(cluster_0['거주지사이즈_중']))*100, 2), '%')\n",
        "print(f'거주지사이즈(소) :', round((len(cluster_0.loc[cluster_0['거주지사이즈_소']==1, '거주지사이즈_소']) / len(cluster_0['거주지사이즈_소']))*100, 2), '%')"
      ],
      "metadata": {
        "colab": {
          "base_uri": "https://localhost:8080/"
        },
        "id": "AVGPfXjqRfo-",
        "outputId": "3828ba47-68b6-4a17-d09b-b21a209e934a"
      },
      "execution_count": null,
      "outputs": [
        {
          "output_type": "stream",
          "name": "stdout",
          "text": [
            "거주지사이즈(대) : 10.43 %\n",
            "거주지사이즈(중) : 72.61 %\n",
            "거주지사이즈(소) : 16.96 %\n"
          ]
        }
      ]
    },
    {
      "cell_type": "markdown",
      "source": [
        "## cluster 1"
      ],
      "metadata": {
        "id": "pveGp1TjR5K2"
      }
    },
    {
      "cell_type": "markdown",
      "source": [
        "### Willingness to pay/Stay"
      ],
      "metadata": {
        "id": "E70c3DXndPbU"
      }
    },
    {
      "cell_type": "code",
      "source": [
        "cluster_1['Willingness to pay/Stay'].mean()"
      ],
      "metadata": {
        "colab": {
          "base_uri": "https://localhost:8080/"
        },
        "outputId": "c446ccf7-9cf7-49d5-881d-efe5d000b808",
        "id": "r_ymdu5xdPbf"
      },
      "execution_count": null,
      "outputs": [
        {
          "output_type": "execute_result",
          "data": {
            "text/plain": [
              "8.859380974934354"
            ]
          },
          "metadata": {},
          "execution_count": 245
        }
      ]
    },
    {
      "cell_type": "markdown",
      "source": [
        "### VOC"
      ],
      "metadata": {
        "id": "EZfVqEnrd9vt"
      }
    },
    {
      "cell_type": "code",
      "source": [
        "cluster_1['VOC'].mean()"
      ],
      "metadata": {
        "colab": {
          "base_uri": "https://localhost:8080/"
        },
        "outputId": "6509501b-e667-4140-e71c-aa963c1be67e",
        "id": "ZAnL3B12d9v3"
      },
      "execution_count": null,
      "outputs": [
        {
          "output_type": "execute_result",
          "data": {
            "text/plain": [
              "0.39006922893291957"
            ]
          },
          "metadata": {},
          "execution_count": 246
        }
      ]
    },
    {
      "cell_type": "markdown",
      "source": [
        "### AGE"
      ],
      "metadata": {
        "id": "Jck3475FR5LA"
      }
    },
    {
      "cell_type": "code",
      "source": [
        "cluster_1['AGE'].unique()"
      ],
      "metadata": {
        "colab": {
          "base_uri": "https://localhost:8080/"
        },
        "outputId": "e21109b9-ed55-441a-bf78-16fcea1d3e5d",
        "id": "AKJpLfBnR5LB"
      },
      "execution_count": null,
      "outputs": [
        {
          "output_type": "execute_result",
          "data": {
            "text/plain": [
              "array([2, 3, 1, 4, 5, 6])"
            ]
          },
          "metadata": {},
          "execution_count": 247
        }
      ]
    },
    {
      "cell_type": "code",
      "source": [
        "for i in range(1, 7):\n",
        "    print(f'AGE({i}) :', round((len(cluster_1.loc[cluster_1['AGE']==i, 'AGE']) / len(cluster_1['AGE']))*100, 2), '%')"
      ],
      "metadata": {
        "colab": {
          "base_uri": "https://localhost:8080/"
        },
        "outputId": "90950309-34dc-4010-a863-51bfdf77b817",
        "id": "chdB2YD4R5LC"
      },
      "execution_count": null,
      "outputs": [
        {
          "output_type": "stream",
          "name": "stdout",
          "text": [
            "AGE(1) : 1.46 %\n",
            "AGE(2) : 11.75 %\n",
            "AGE(3) : 61.83 %\n",
            "AGE(4) : 19.1 %\n",
            "AGE(5) : 5.68 %\n",
            "AGE(6) : 0.19 %\n"
          ]
        }
      ]
    },
    {
      "cell_type": "markdown",
      "source": [
        "### 성별"
      ],
      "metadata": {
        "id": "mTU7pB_IR5LC"
      }
    },
    {
      "cell_type": "code",
      "source": [
        "cluster_1['성별'].unique()"
      ],
      "metadata": {
        "colab": {
          "base_uri": "https://localhost:8080/"
        },
        "outputId": "0a724238-5cdf-43c4-cdf7-d6e461e56396",
        "id": "94ZgZ6arR5LD"
      },
      "execution_count": null,
      "outputs": [
        {
          "output_type": "execute_result",
          "data": {
            "text/plain": [
              "array([0, 1])"
            ]
          },
          "metadata": {},
          "execution_count": 249
        }
      ]
    },
    {
      "cell_type": "code",
      "source": [
        "for i in range(0, 2):\n",
        "    print(f'성별({i}) :', round((len(cluster_1.loc[cluster_1['성별']==i, '성별']) / len(cluster_1['성별']))*100, 2), '%')"
      ],
      "metadata": {
        "colab": {
          "base_uri": "https://localhost:8080/"
        },
        "outputId": "ca461417-d2bb-47f8-a8c9-64968c4ee970",
        "id": "X3-uManuR5LD"
      },
      "execution_count": null,
      "outputs": [
        {
          "output_type": "stream",
          "name": "stdout",
          "text": [
            "성별(0) : 47.74 %\n",
            "성별(1) : 52.26 %\n"
          ]
        }
      ]
    },
    {
      "cell_type": "markdown",
      "source": [
        "### 등록(계/피)"
      ],
      "metadata": {
        "id": "BNGU5RHJR5LE"
      }
    },
    {
      "cell_type": "code",
      "source": [
        "print(f'등록(계약자) :', round((len(cluster_1.loc[cluster_1['등록(계/피)_계약자']==1, '등록(계/피)_계약자']) / len(cluster_1['등록(계/피)_계약자']))*100, 2), '%')\n",
        "print(f'등록(피보험자) :', round((len(cluster_1.loc[cluster_1['등록(계/피)_피보험자']==1, '등록(계/피)_피보험자']) / len(cluster_1['등록(계/피)_피보험자']))*100, 2), '%')"
      ],
      "metadata": {
        "colab": {
          "base_uri": "https://localhost:8080/"
        },
        "outputId": "b565299e-7c3d-4a86-f9d4-8bf9c5c80326",
        "id": "KqoFjESaR5LE"
      },
      "execution_count": null,
      "outputs": [
        {
          "output_type": "stream",
          "name": "stdout",
          "text": [
            "등록(계약자) : 100.0 %\n",
            "등록(피보험자) : 0.0 %\n"
          ]
        }
      ]
    },
    {
      "cell_type": "markdown",
      "source": [
        "### 고용상태"
      ],
      "metadata": {
        "id": "8mG3Z-QoR5LF"
      }
    },
    {
      "cell_type": "code",
      "source": [
        "print(f'고용상태(무직) :', round((len(cluster_1.loc[cluster_1['고용상태_무직']==1, '고용상태_무직']) / len(cluster_1['고용상태_무직']))*100, 2), '%')\n",
        "print(f'고용상태(휴직) :', round((len(cluster_1.loc[cluster_1['고용상태_휴직']==1, '고용상태_휴직']) / len(cluster_1['고용상태_휴직']))*100, 2), '%')\n",
        "print(f'고용상태(고용) :', round((len(cluster_1.loc[cluster_1['고용상태_고용']==1, '고용상태_고용']) / len(cluster_1['고용상태_고용']))*100, 2), '%')\n",
        "print(f'고용상태(FALSE) :', round((len(cluster_1.loc[cluster_1['고용상태_FALSE']==1, '고용상태_FALSE']) / len(cluster_1['고용상태_FALSE']))*100, 2), '%')"
      ],
      "metadata": {
        "colab": {
          "base_uri": "https://localhost:8080/"
        },
        "outputId": "46daf610-d64d-4ee3-c5e3-9b037e973417",
        "id": "kbEncaqrR5LF"
      },
      "execution_count": null,
      "outputs": [
        {
          "output_type": "stream",
          "name": "stdout",
          "text": [
            "고용상태(무직) : 52.71 %\n",
            "고용상태(휴직) : 18.38 %\n",
            "고용상태(고용) : 22.15 %\n",
            "고용상태(FALSE) : 6.76 %\n"
          ]
        }
      ]
    },
    {
      "cell_type": "markdown",
      "source": [
        "### 상품타입"
      ],
      "metadata": {
        "id": "DkMAJMJNR5LG"
      }
    },
    {
      "cell_type": "code",
      "source": [
        "print(f'상품타입(기본) :', round((len(cluster_1.loc[cluster_1['상품타입_기본']==1, '상품타입_기본']) / len(cluster_1['상품타입_기본']))*100, 2), '%')\n",
        "print(f'상품타입(중급) :', round((len(cluster_1.loc[cluster_1['상품타입_중급']==1, '상품타입_중급']) / len(cluster_1['상품타입_중급']))*100, 2), '%')\n",
        "print(f'상품타입(고급) :', round((len(cluster_1.loc[cluster_1['상품타입_고급']==1, '상품타입_고급']) / len(cluster_1['상품타입_고급']))*100, 2), '%')"
      ],
      "metadata": {
        "colab": {
          "base_uri": "https://localhost:8080/"
        },
        "outputId": "8b78432d-4087-459a-8a75-b7818826a4cb",
        "id": "4goNIMXlR5LG"
      },
      "execution_count": null,
      "outputs": [
        {
          "output_type": "stream",
          "name": "stdout",
          "text": [
            "상품타입(기본) : 59.25 %\n",
            "상품타입(중급) : 31.22 %\n",
            "상품타입(고급) : 9.52 %\n"
          ]
        }
      ]
    },
    {
      "cell_type": "markdown",
      "source": [
        "### 교육수준"
      ],
      "metadata": {
        "id": "fWdJew9bR5LH"
      }
    },
    {
      "cell_type": "code",
      "source": [
        "print(f'교육수준(고졸이하) :', round((len(cluster_1.loc[cluster_1['교육수준_고졸이하']==1, '교육수준_고졸이하']) / len(cluster_1['교육수준_고졸이하']))*100, 2), '%')\n",
        "print(f'교육수준(대학졸업) :', round((len(cluster_1.loc[cluster_1['교육수준_대학졸업']==1, '교육수준_대학졸업']) / len(cluster_1['교육수준_대학졸업']))*100, 2), '%')\n",
        "print(f'교육수준(석사) :', round((len(cluster_1.loc[cluster_1['교육수준_석사']==1, '교육수준_석사']) / len(cluster_1['교육수준_석사']))*100, 2), '%')\n",
        "print(f'교육수준(박사) :', round((len(cluster_1.loc[cluster_1['교육수준_박사']==1, '교육수준_박사']) / len(cluster_1['교육수준_박사']))*100, 2), '%')"
      ],
      "metadata": {
        "colab": {
          "base_uri": "https://localhost:8080/"
        },
        "outputId": "ec88242b-33b6-453e-f2a6-48dfe2d9ece9",
        "id": "ArZzyfXVR5LH"
      },
      "execution_count": null,
      "outputs": [
        {
          "output_type": "stream",
          "name": "stdout",
          "text": [
            "교육수준(고졸이하) : 32.99 %\n",
            "교육수준(대학졸업) : 59.51 %\n",
            "교육수준(석사) : 5.25 %\n",
            "교육수준(박사) : 2.24 %\n"
          ]
        }
      ]
    },
    {
      "cell_type": "markdown",
      "source": [
        "### 지역"
      ],
      "metadata": {
        "id": "BD3fC-u5R5LI"
      }
    },
    {
      "cell_type": "code",
      "source": [
        "print(f'지역(도심) :', round((len(cluster_1.loc[cluster_1['지역_도심']==1, '지역_도심']) / len(cluster_1['지역_도심']))*100, 2), '%')\n",
        "print(f'지역(도시근교) :', round((len(cluster_1.loc[cluster_1['지역_도시근교']==1, '지역_도시근교']) / len(cluster_1['지역_도시근교']))*100, 2), '%')\n",
        "print(f'지역(시골) :', round((len(cluster_1.loc[cluster_1['지역_시골']==1, '지역_시골']) / len(cluster_1['지역_시골']))*100, 2), '%')"
      ],
      "metadata": {
        "colab": {
          "base_uri": "https://localhost:8080/"
        },
        "outputId": "f6d49517-365f-4461-8245-5419b9e5b73a",
        "id": "HLwWgR-uR5LI"
      },
      "execution_count": null,
      "outputs": [
        {
          "output_type": "stream",
          "name": "stdout",
          "text": [
            "지역(도심) : 1.0 %\n",
            "지역(도시근교) : 97.97 %\n",
            "지역(시골) : 1.03 %\n"
          ]
        }
      ]
    },
    {
      "cell_type": "markdown",
      "source": [
        "### 결혼여부"
      ],
      "metadata": {
        "id": "2nPXTmFJSebh"
      }
    },
    {
      "cell_type": "code",
      "source": [
        "print(f'결혼여부(기혼) :', round((len(cluster_1.loc[cluster_1['결혼여부_기혼']==1, '결혼여부_기혼']) / len(cluster_1['결혼여부_기혼']))*100, 2), '%')\n",
        "print(f'결혼여부(미혼) :', round((len(cluster_1.loc[cluster_1['결혼여부_미혼']==1, '결혼여부_미혼']) / len(cluster_1['결혼여부_미혼']))*100, 2), '%')"
      ],
      "metadata": {
        "colab": {
          "base_uri": "https://localhost:8080/"
        },
        "outputId": "8207586a-85fa-42e2-b028-d5e87d8350ad",
        "id": "RKyqdKdCR5LJ"
      },
      "execution_count": null,
      "outputs": [
        {
          "output_type": "stream",
          "name": "stdout",
          "text": [
            "결혼여부(기혼) : 28.67 %\n",
            "결혼여부(미혼) : 71.33 %\n"
          ]
        }
      ]
    },
    {
      "cell_type": "markdown",
      "source": [
        "### 타 상품 보유 현황"
      ],
      "metadata": {
        "id": "06z25BfSR5LJ"
      }
    },
    {
      "cell_type": "code",
      "source": [
        "print(f'타 상품 보유 현황(1) :', round((len(cluster_1.loc[cluster_1['타 상품 보유 현황_1']==1, '타 상품 보유 현황_1']) / len(cluster_1['타 상품 보유 현황_1']))*100, 2), '%')\n",
        "print(f'타 상품 보유 현황(2) :', round((len(cluster_1.loc[cluster_1['타 상품 보유 현황_2']==1, '타 상품 보유 현황_2']) / len(cluster_1['타 상품 보유 현황_2']))*100, 2), '%')\n",
        "print(f'타 상품 보유 현황(3) :', round((len(cluster_1.loc[cluster_1['타 상품 보유 현황_3']==1, '타 상품 보유 현황_3']) / len(cluster_1['타 상품 보유 현황_3']))*100, 2), '%')\n",
        "print(f'타 상품 보유 현황(4이상) :', round((len(cluster_1.loc[cluster_1['타 상품 보유 현황_4이상']==1, '타 상품 보유 현황_4이상']) / len(cluster_1['타 상품 보유 현황_4이상']))*100, 2), '%')"
      ],
      "metadata": {
        "colab": {
          "base_uri": "https://localhost:8080/"
        },
        "outputId": "60378b00-33b4-438f-b554-e263fdd5e980",
        "id": "UNKnV92QR5LJ"
      },
      "execution_count": null,
      "outputs": [
        {
          "output_type": "stream",
          "name": "stdout",
          "text": [
            "타 상품 보유 현황(1) : 35.07 %\n",
            "타 상품 보유 현황(2) : 26.04 %\n",
            "타 상품 보유 현황(3) : 12.72 %\n",
            "타 상품 보유 현황(4이상) : 26.16 %\n"
          ]
        }
      ]
    },
    {
      "cell_type": "markdown",
      "source": [
        "### 온라인방문빈도"
      ],
      "metadata": {
        "id": "lrZxbqlVR5LK"
      }
    },
    {
      "cell_type": "code",
      "source": [
        "print(f'온라인방문빈도(비방문) :', round((len(cluster_1.loc[cluster_1['온라인방문빈도_비방문']==1, '온라인방문빈도_비방문']) / len(cluster_1['온라인방문빈도_비방문']))*100, 2), '%')\n",
        "print(f'온라인방문빈도(종종) :', round((len(cluster_1.loc[cluster_1['온라인방문빈도_종종']==1, '온라인방문빈도_종종']) / len(cluster_1['온라인방문빈도_종종']))*100, 2), '%')\n",
        "print(f'온라인방문빈도(자주방문) :', round((len(cluster_1.loc[cluster_1['온라인방문빈도_자주방문']==1, '온라인방문빈도_자주방문']) / len(cluster_1['온라인방문빈도_자주방문']))*100, 2), '%')"
      ],
      "metadata": {
        "colab": {
          "base_uri": "https://localhost:8080/"
        },
        "outputId": "5ecd06d2-01be-4758-c835-e65d1b4bf83f",
        "id": "MukWW4XoR5LL"
      },
      "execution_count": null,
      "outputs": [
        {
          "output_type": "stream",
          "name": "stdout",
          "text": [
            "온라인방문빈도(비방문) : 95.13 %\n",
            "온라인방문빈도(종종) : 4.87 %\n",
            "온라인방문빈도(자주방문) : 0.0 %\n"
          ]
        }
      ]
    },
    {
      "cell_type": "markdown",
      "source": [
        "### 갱신인센티브"
      ],
      "metadata": {
        "id": "blQhSr3SR5LM"
      }
    },
    {
      "cell_type": "code",
      "source": [
        "print(f'갱신인센티브(없음) :', round((len(cluster_1.loc[cluster_1['갱신인센티브_없음']==1, '갱신인센티브_없음']) / len(cluster_1['갱신인센티브_없음']))*100, 2), '%')\n",
        "print(f'갱신인센티브(포인트) :', round((len(cluster_1.loc[cluster_1['갱신인센티브_포인트']==1, '갱신인센티브_포인트']) / len(cluster_1['갱신인센티브_포인트']))*100, 2), '%')\n",
        "print(f'갱신인센티브(할인) :', round((len(cluster_1.loc[cluster_1['갱신인센티브_할인']==1, '갱신인센티브_할인']) / len(cluster_1['갱신인센티브_할인']))*100, 2), '%')\n",
        "print(f'갱신인센티브(설계사독려) :', round((len(cluster_1.loc[cluster_1['갱신인센티브_설계사독려']==1, '갱신인센티브_설계사독려']) / len(cluster_1['갱신인센티브_설계사독려']))*100, 2), '%')"
      ],
      "metadata": {
        "colab": {
          "base_uri": "https://localhost:8080/"
        },
        "outputId": "77bb042b-0241-4820-bdea-663fd0557737",
        "id": "NG3_n6O_R5LN"
      },
      "execution_count": null,
      "outputs": [
        {
          "output_type": "stream",
          "name": "stdout",
          "text": [
            "갱신인센티브(없음) : 7.69 %\n",
            "갱신인센티브(포인트) : 13.94 %\n",
            "갱신인센티브(할인) : 52.38 %\n",
            "갱신인센티브(설계사독려) : 26.0 %\n"
          ]
        }
      ]
    },
    {
      "cell_type": "markdown",
      "source": [
        "### 판매채널"
      ],
      "metadata": {
        "id": "eXDe17KDR5LN"
      }
    },
    {
      "cell_type": "code",
      "source": [
        "print(f'판매채널(대리점) :', round((len(cluster_1.loc[cluster_1['판매채널_대리점']==1, '판매채널_대리점']) / len(cluster_1['판매채널_대리점']))*100, 2), '%')\n",
        "print(f'판매채널(인터넷) :', round((len(cluster_1.loc[cluster_1['판매채널_인터넷']==1, '판매채널_인터넷']) / len(cluster_1['판매채널_인터넷']))*100, 2), '%')\n",
        "print(f'판매채널(자사영업) :', round((len(cluster_1.loc[cluster_1['판매채널_자사영업']==1, '판매채널_자사영업']) / len(cluster_1['판매채널_자사영업']))*100, 2), '%')\n",
        "print(f'판매채널(콜센터) :', round((len(cluster_1.loc[cluster_1['판매채널_콜센터']==1, '판매채널_콜센터']) / len(cluster_1['판매채널_콜센터']))*100, 2), '%')"
      ],
      "metadata": {
        "colab": {
          "base_uri": "https://localhost:8080/"
        },
        "outputId": "0f8b43a3-a334-489b-b880-65bc59d789a0",
        "id": "2fNJSfSvR5LN"
      },
      "execution_count": null,
      "outputs": [
        {
          "output_type": "stream",
          "name": "stdout",
          "text": [
            "판매채널(대리점) : 40.01 %\n",
            "판매채널(인터넷) : 14.35 %\n",
            "판매채널(자사영업) : 26.83 %\n",
            "판매채널(콜센터) : 18.81 %\n"
          ]
        }
      ]
    },
    {
      "cell_type": "markdown",
      "source": [
        "### 자동차"
      ],
      "metadata": {
        "id": "RAsoNi8gR5LO"
      }
    },
    {
      "cell_type": "code",
      "source": [
        "print(f'자동차(컴팩트카) :', round((len(cluster_1.loc[cluster_1['자동차_컴팩트카']==1, '자동차_컴팩트카']) / len(cluster_1['자동차_컴팩트카']))*100, 2), '%')\n",
        "print(f'자동차(일반세단) :', round((len(cluster_1.loc[cluster_1['자동차_일반세단']==1, '자동차_일반세단']) / len(cluster_1['자동차_일반세단']))*100, 2), '%')\n",
        "print(f'자동차(SUV) :', round((len(cluster_1.loc[cluster_1['자동차_SUV']==1, '자동차_SUV']) / len(cluster_1['자동차_SUV']))*100, 2), '%')\n",
        "print(f'자동차(스포츠카) :', round((len(cluster_1.loc[cluster_1['자동차_스포츠카']==1, '자동차_스포츠카']) / len(cluster_1['자동차_스포츠카']))*100, 2), '%')\n",
        "print(f'자동차(고급차) :', round((len(cluster_1.loc[cluster_1['자동차_고급차']==1, '자동차_고급차']) / len(cluster_1['자동차_고급차']))*100, 2), '%')"
      ],
      "metadata": {
        "colab": {
          "base_uri": "https://localhost:8080/"
        },
        "outputId": "b943aa05-40b8-4ec3-e332-b78340b35d92",
        "id": "I79GXMwuR5LO"
      },
      "execution_count": null,
      "outputs": [
        {
          "output_type": "stream",
          "name": "stdout",
          "text": [
            "자동차(컴팩트카) : 19.58 %\n",
            "자동차(일반세단) : 49.58 %\n",
            "자동차(SUV) : 20.34 %\n",
            "자동차(스포츠카) : 5.92 %\n",
            "자동차(고급차) : 4.58 %\n"
          ]
        }
      ]
    },
    {
      "cell_type": "markdown",
      "source": [
        "### 거주지사이즈"
      ],
      "metadata": {
        "id": "RpWbn3hhR5LO"
      }
    },
    {
      "cell_type": "code",
      "source": [
        "print(f'거주지사이즈(대) :', round((len(cluster_1.loc[cluster_1['거주지사이즈_대']==1, '거주지사이즈_대']) / len(cluster_1['거주지사이즈_대']))*100, 2), '%')\n",
        "print(f'거주지사이즈(중) :', round((len(cluster_1.loc[cluster_1['거주지사이즈_중']==1, '거주지사이즈_중']) / len(cluster_1['거주지사이즈_중']))*100, 2), '%')\n",
        "print(f'거주지사이즈(소) :', round((len(cluster_1.loc[cluster_1['거주지사이즈_소']==1, '거주지사이즈_소']) / len(cluster_1['거주지사이즈_소']))*100, 2), '%')"
      ],
      "metadata": {
        "colab": {
          "base_uri": "https://localhost:8080/"
        },
        "outputId": "c6175311-4798-4ddb-98af-10376964f891",
        "id": "hrQ4GL7QR5LP"
      },
      "execution_count": null,
      "outputs": [
        {
          "output_type": "stream",
          "name": "stdout",
          "text": [
            "거주지사이즈(대) : 10.41 %\n",
            "거주지사이즈(중) : 66.84 %\n",
            "거주지사이즈(소) : 22.75 %\n"
          ]
        }
      ]
    },
    {
      "cell_type": "markdown",
      "source": [
        "## cluster 2"
      ],
      "metadata": {
        "id": "RLuzOh04TBu8"
      }
    },
    {
      "cell_type": "markdown",
      "source": [
        "### Willingness to pay/Stay"
      ],
      "metadata": {
        "id": "LY1GFHl3dSME"
      }
    },
    {
      "cell_type": "code",
      "source": [
        "cluster_2['Willingness to pay/Stay'].mean()"
      ],
      "metadata": {
        "colab": {
          "base_uri": "https://localhost:8080/"
        },
        "outputId": "166204b6-5330-484f-e655-b6e0a66b9785",
        "id": "HA2OxvRbdSMO"
      },
      "execution_count": null,
      "outputs": [
        {
          "output_type": "execute_result",
          "data": {
            "text/plain": [
              "8.643829330485437"
            ]
          },
          "metadata": {},
          "execution_count": 263
        }
      ]
    },
    {
      "cell_type": "markdown",
      "source": [
        "### VOC"
      ],
      "metadata": {
        "id": "ImHBV8fXeAdP"
      }
    },
    {
      "cell_type": "code",
      "source": [
        "cluster_2['VOC'].mean()"
      ],
      "metadata": {
        "colab": {
          "base_uri": "https://localhost:8080/"
        },
        "outputId": "98851de1-9ffb-47f7-b349-20cff4201d1a",
        "id": "S_0NMTm3eAdZ"
      },
      "execution_count": null,
      "outputs": [
        {
          "output_type": "execute_result",
          "data": {
            "text/plain": [
              "0.3755339805825243"
            ]
          },
          "metadata": {},
          "execution_count": 264
        }
      ]
    },
    {
      "cell_type": "markdown",
      "source": [
        "### AGE"
      ],
      "metadata": {
        "id": "ZwK3f3phTBvI"
      }
    },
    {
      "cell_type": "code",
      "source": [
        "cluster_2['AGE'].unique()"
      ],
      "metadata": {
        "colab": {
          "base_uri": "https://localhost:8080/"
        },
        "outputId": "c574cbd3-7f96-4530-fd5f-b2d71652fd92",
        "id": "ho4RTXk7TBvI"
      },
      "execution_count": null,
      "outputs": [
        {
          "output_type": "execute_result",
          "data": {
            "text/plain": [
              "array([3, 4, 5, 6, 1, 2])"
            ]
          },
          "metadata": {},
          "execution_count": 265
        }
      ]
    },
    {
      "cell_type": "code",
      "source": [
        "for i in range(1, 7):\n",
        "    print(f'AGE({i}) :', round((len(cluster_2.loc[cluster_2['AGE']==i, 'AGE']) / len(cluster_2['AGE']))*100, 2), '%')"
      ],
      "metadata": {
        "colab": {
          "base_uri": "https://localhost:8080/"
        },
        "outputId": "8615da0e-422c-4211-cd58-d67f5b0c422f",
        "id": "_ky_PlejTBvI"
      },
      "execution_count": null,
      "outputs": [
        {
          "output_type": "stream",
          "name": "stdout",
          "text": [
            "AGE(1) : 12.89 %\n",
            "AGE(2) : 11.73 %\n",
            "AGE(3) : 39.96 %\n",
            "AGE(4) : 26.06 %\n",
            "AGE(5) : 8.66 %\n",
            "AGE(6) : 0.7 %\n"
          ]
        }
      ]
    },
    {
      "cell_type": "markdown",
      "source": [
        "### 성별"
      ],
      "metadata": {
        "id": "nx0GFrI5TBvJ"
      }
    },
    {
      "cell_type": "code",
      "source": [
        "cluster_2['성별'].unique()"
      ],
      "metadata": {
        "colab": {
          "base_uri": "https://localhost:8080/"
        },
        "outputId": "70874de5-f5cc-4cb0-ba8b-80b2f8b5f3de",
        "id": "_w-8ZWtMTBvJ"
      },
      "execution_count": null,
      "outputs": [
        {
          "output_type": "execute_result",
          "data": {
            "text/plain": [
              "array([1, 0])"
            ]
          },
          "metadata": {},
          "execution_count": 267
        }
      ]
    },
    {
      "cell_type": "code",
      "source": [
        "for i in range(0, 2):\n",
        "    print(f'성별({i}) :', round((len(cluster_2.loc[cluster_2['성별']==i, '성별']) / len(cluster_2['성별']))*100, 2), '%')"
      ],
      "metadata": {
        "colab": {
          "base_uri": "https://localhost:8080/"
        },
        "outputId": "89b1a8ef-19cb-49c1-d774-62e49f6a97ce",
        "id": "PIAVlUOTTBvK"
      },
      "execution_count": null,
      "outputs": [
        {
          "output_type": "stream",
          "name": "stdout",
          "text": [
            "성별(0) : 51.81 %\n",
            "성별(1) : 48.19 %\n"
          ]
        }
      ]
    },
    {
      "cell_type": "markdown",
      "source": [
        "### 등록(계/피)"
      ],
      "metadata": {
        "id": "5G-WURiATBvK"
      }
    },
    {
      "cell_type": "code",
      "source": [
        "print(f'등록(계약자) :', round((len(cluster_2.loc[cluster_2['등록(계/피)_계약자']==1, '등록(계/피)_계약자']) / len(cluster_2['등록(계/피)_계약자']))*100, 2), '%')\n",
        "print(f'등록(피보험자) :', round((len(cluster_2.loc[cluster_2['등록(계/피)_피보험자']==1, '등록(계/피)_피보험자']) / len(cluster_2['등록(계/피)_피보험자']))*100, 2), '%')"
      ],
      "metadata": {
        "colab": {
          "base_uri": "https://localhost:8080/"
        },
        "outputId": "d2761a87-923a-42bc-dc26-a67e0b5d9bdf",
        "id": "kk6l55esTBvK"
      },
      "execution_count": null,
      "outputs": [
        {
          "output_type": "stream",
          "name": "stdout",
          "text": [
            "등록(계약자) : 0.0 %\n",
            "등록(피보험자) : 100.0 %\n"
          ]
        }
      ]
    },
    {
      "cell_type": "markdown",
      "source": [
        "### 고용상태"
      ],
      "metadata": {
        "id": "5TTPihAgTBvK"
      }
    },
    {
      "cell_type": "code",
      "source": [
        "print(f'고용상태(무직) :', round((len(cluster_2.loc[cluster_2['고용상태_무직']==1, '고용상태_무직']) / len(cluster_2['고용상태_무직']))*100, 2), '%')\n",
        "print(f'고용상태(휴직) :', round((len(cluster_2.loc[cluster_2['고용상태_휴직']==1, '고용상태_휴직']) / len(cluster_2['고용상태_휴직']))*100, 2), '%')\n",
        "print(f'고용상태(고용) :', round((len(cluster_2.loc[cluster_2['고용상태_고용']==1, '고용상태_고용']) / len(cluster_2['고용상태_고용']))*100, 2), '%')\n",
        "print(f'고용상태(FALSE) :', round((len(cluster_2.loc[cluster_2['고용상태_FALSE']==1, '고용상태_FALSE']) / len(cluster_2['고용상태_FALSE']))*100, 2), '%')"
      ],
      "metadata": {
        "colab": {
          "base_uri": "https://localhost:8080/"
        },
        "outputId": "af294532-ca55-4b4d-b806-f5473b946fc9",
        "id": "7RAi0OSgTBvL"
      },
      "execution_count": null,
      "outputs": [
        {
          "output_type": "stream",
          "name": "stdout",
          "text": [
            "고용상태(무직) : 25.2 %\n",
            "고용상태(휴직) : 8.78 %\n",
            "고용상태(고용) : 63.34 %\n",
            "고용상태(FALSE) : 2.68 %\n"
          ]
        }
      ]
    },
    {
      "cell_type": "markdown",
      "source": [
        "### 상품타입"
      ],
      "metadata": {
        "id": "BT9vWZDVTBvL"
      }
    },
    {
      "cell_type": "code",
      "source": [
        "print(f'상품타입(기본) :', round((len(cluster_2.loc[cluster_2['상품타입_기본']==1, '상품타입_기본']) / len(cluster_2['상품타입_기본']))*100, 2), '%')\n",
        "print(f'상품타입(중급) :', round((len(cluster_2.loc[cluster_2['상품타입_중급']==1, '상품타입_중급']) / len(cluster_2['상품타입_중급']))*100, 2), '%')\n",
        "print(f'상품타입(고급) :', round((len(cluster_2.loc[cluster_2['상품타입_고급']==1, '상품타입_고급']) / len(cluster_2['상품타입_고급']))*100, 2), '%')"
      ],
      "metadata": {
        "colab": {
          "base_uri": "https://localhost:8080/"
        },
        "outputId": "c0877810-c555-41dc-b0ea-f5e37cb18d1a",
        "id": "sgYw5rHJTBvL"
      },
      "execution_count": null,
      "outputs": [
        {
          "output_type": "stream",
          "name": "stdout",
          "text": [
            "상품타입(기본) : 61.44 %\n",
            "상품타입(중급) : 29.48 %\n",
            "상품타입(고급) : 9.09 %\n"
          ]
        }
      ]
    },
    {
      "cell_type": "markdown",
      "source": [
        "### 교육수준"
      ],
      "metadata": {
        "id": "z-uhU4ilTBvM"
      }
    },
    {
      "cell_type": "code",
      "source": [
        "print(f'교육수준(고졸이하) :', round((len(cluster_2.loc[cluster_2['교육수준_고졸이하']==1, '교육수준_고졸이하']) / len(cluster_2['교육수준_고졸이하']))*100, 2), '%')\n",
        "print(f'교육수준(대학졸업) :', round((len(cluster_2.loc[cluster_2['교육수준_대학졸업']==1, '교육수준_대학졸업']) / len(cluster_2['교육수준_대학졸업']))*100, 2), '%')\n",
        "print(f'교육수준(석사) :', round((len(cluster_2.loc[cluster_2['교육수준_석사']==1, '교육수준_석사']) / len(cluster_2['교육수준_석사']))*100, 2), '%')\n",
        "print(f'교육수준(박사) :', round((len(cluster_2.loc[cluster_2['교육수준_박사']==1, '교육수준_박사']) / len(cluster_2['교육수준_박사']))*100, 2), '%')"
      ],
      "metadata": {
        "colab": {
          "base_uri": "https://localhost:8080/"
        },
        "outputId": "f2f6f045-f4dd-40fa-a7f2-7f7084d79895",
        "id": "VhrX_RjQTBvM"
      },
      "execution_count": null,
      "outputs": [
        {
          "output_type": "stream",
          "name": "stdout",
          "text": [
            "교육수준(고졸이하) : 30.02 %\n",
            "교육수준(대학졸업) : 59.34 %\n",
            "교육수준(석사) : 7.61 %\n",
            "교육수준(박사) : 3.03 %\n"
          ]
        }
      ]
    },
    {
      "cell_type": "markdown",
      "source": [
        "### 지역"
      ],
      "metadata": {
        "id": "2KccsqkWTBvN"
      }
    },
    {
      "cell_type": "code",
      "source": [
        "print(f'지역(도심) :', round((len(cluster_2.loc[cluster_2['지역_도심']==1, '지역_도심']) / len(cluster_2['지역_도심']))*100, 2), '%')\n",
        "print(f'지역(도시근교) :', round((len(cluster_2.loc[cluster_2['지역_도시근교']==1, '지역_도시근교']) / len(cluster_2['지역_도시근교']))*100, 2), '%')\n",
        "print(f'지역(시골) :', round((len(cluster_2.loc[cluster_2['지역_시골']==1, '지역_시골']) / len(cluster_2['지역_시골']))*100, 2), '%')"
      ],
      "metadata": {
        "colab": {
          "base_uri": "https://localhost:8080/"
        },
        "outputId": "920e93a7-57be-4d35-9170-cb6b0b35f37a",
        "id": "c1XLIqjHTBvN"
      },
      "execution_count": null,
      "outputs": [
        {
          "output_type": "stream",
          "name": "stdout",
          "text": [
            "지역(도심) : 17.2 %\n",
            "지역(도시근교) : 62.41 %\n",
            "지역(시골) : 20.39 %\n"
          ]
        }
      ]
    },
    {
      "cell_type": "markdown",
      "source": [
        "### 결혼여부"
      ],
      "metadata": {
        "id": "yVHhuzOzTBvN"
      }
    },
    {
      "cell_type": "code",
      "source": [
        "print(f'결혼여부(기혼) :', round((len(cluster_2.loc[cluster_2['결혼여부_기혼']==1, '결혼여부_기혼']) / len(cluster_2['결혼여부_기혼']))*100, 2), '%')\n",
        "print(f'결혼여부(미혼) :', round((len(cluster_2.loc[cluster_2['결혼여부_미혼']==1, '결혼여부_미혼']) / len(cluster_2['결혼여부_미혼']))*100, 2), '%')"
      ],
      "metadata": {
        "colab": {
          "base_uri": "https://localhost:8080/"
        },
        "outputId": "f71a1ab0-be40-4663-9adf-295f8b374293",
        "id": "QrfrbuOYTBvN"
      },
      "execution_count": null,
      "outputs": [
        {
          "output_type": "stream",
          "name": "stdout",
          "text": [
            "결혼여부(기혼) : 57.44 %\n",
            "결혼여부(미혼) : 42.56 %\n"
          ]
        }
      ]
    },
    {
      "cell_type": "markdown",
      "source": [
        "### 타 상품 보유 현황"
      ],
      "metadata": {
        "id": "TqRcbNxaTBvO"
      }
    },
    {
      "cell_type": "code",
      "source": [
        "print(f'타 상품 보유 현황(1) :', round((len(cluster_2.loc[cluster_2['타 상품 보유 현황_1']==1, '타 상품 보유 현황_1']) / len(cluster_2['타 상품 보유 현황_1']))*100, 2), '%')\n",
        "print(f'타 상품 보유 현황(2) :', round((len(cluster_2.loc[cluster_2['타 상품 보유 현황_2']==1, '타 상품 보유 현황_2']) / len(cluster_2['타 상품 보유 현황_2']))*100, 2), '%')\n",
        "print(f'타 상품 보유 현황(3) :', round((len(cluster_2.loc[cluster_2['타 상품 보유 현황_3']==1, '타 상품 보유 현황_3']) / len(cluster_2['타 상품 보유 현황_3']))*100, 2), '%')\n",
        "print(f'타 상품 보유 현황(4이상) :', round((len(cluster_2.loc[cluster_2['타 상품 보유 현황_4이상']==1, '타 상품 보유 현황_4이상']) / len(cluster_2['타 상품 보유 현황_4이상']))*100, 2), '%')"
      ],
      "metadata": {
        "colab": {
          "base_uri": "https://localhost:8080/"
        },
        "outputId": "25b24f28-fc93-4988-8f4c-13a9f3e2e768",
        "id": "xDNtKMrHTBvO"
      },
      "execution_count": null,
      "outputs": [
        {
          "output_type": "stream",
          "name": "stdout",
          "text": [
            "타 상품 보유 현황(1) : 36.31 %\n",
            "타 상품 보유 현황(2) : 24.27 %\n",
            "타 상품 보유 현황(3) : 12.62 %\n",
            "타 상품 보유 현황(4이상) : 26.8 %\n"
          ]
        }
      ]
    },
    {
      "cell_type": "markdown",
      "source": [
        "### 온라인방문빈도"
      ],
      "metadata": {
        "id": "zUoF6PykTBvO"
      }
    },
    {
      "cell_type": "code",
      "source": [
        "print(f'온라인방문빈도(비방문) :', round((len(cluster_2.loc[cluster_2['온라인방문빈도_비방문']==1, '온라인방문빈도_비방문']) / len(cluster_2['온라인방문빈도_비방문']))*100, 2), '%')\n",
        "print(f'온라인방문빈도(종종) :', round((len(cluster_2.loc[cluster_2['온라인방문빈도_종종']==1, '온라인방문빈도_종종']) / len(cluster_2['온라인방문빈도_종종']))*100, 2), '%')\n",
        "print(f'온라인방문빈도(자주방문) :', round((len(cluster_2.loc[cluster_2['온라인방문빈도_자주방문']==1, '온라인방문빈도_자주방문']) / len(cluster_2['온라인방문빈도_자주방문']))*100, 2), '%')"
      ],
      "metadata": {
        "colab": {
          "base_uri": "https://localhost:8080/"
        },
        "outputId": "01605003-b563-42b7-ec7a-a04feeca6ee8",
        "id": "AI27cWwGTBvO"
      },
      "execution_count": null,
      "outputs": [
        {
          "output_type": "stream",
          "name": "stdout",
          "text": [
            "온라인방문빈도(비방문) : 0.0 %\n",
            "온라인방문빈도(종종) : 0.0 %\n",
            "온라인방문빈도(자주방문) : 100.0 %\n"
          ]
        }
      ]
    },
    {
      "cell_type": "markdown",
      "source": [
        "### 갱신인센티브"
      ],
      "metadata": {
        "id": "c-2dh8toTBvP"
      }
    },
    {
      "cell_type": "code",
      "source": [
        "print(f'갱신인센티브(없음) :', round((len(cluster_2.loc[cluster_2['갱신인센티브_없음']==1, '갱신인센티브_없음']) / len(cluster_2['갱신인센티브_없음']))*100, 2), '%')\n",
        "print(f'갱신인센티브(포인트) :', round((len(cluster_2.loc[cluster_2['갱신인센티브_포인트']==1, '갱신인센티브_포인트']) / len(cluster_2['갱신인센티브_포인트']))*100, 2), '%')\n",
        "print(f'갱신인센티브(할인) :', round((len(cluster_2.loc[cluster_2['갱신인센티브_할인']==1, '갱신인센티브_할인']) / len(cluster_2['갱신인센티브_할인']))*100, 2), '%')\n",
        "print(f'갱신인센티브(설계사독려) :', round((len(cluster_2.loc[cluster_2['갱신인센티브_설계사독려']==1, '갱신인센티브_설계사독려']) / len(cluster_2['갱신인센티브_설계사독려']))*100, 2), '%')"
      ],
      "metadata": {
        "colab": {
          "base_uri": "https://localhost:8080/"
        },
        "outputId": "0629a4cb-1f5a-4de2-ced9-ee52ea85eef9",
        "id": "ku1WNa__TBvP"
      },
      "execution_count": null,
      "outputs": [
        {
          "output_type": "stream",
          "name": "stdout",
          "text": [
            "갱신인센티브(없음) : 12.16 %\n",
            "갱신인센티브(포인트) : 16.19 %\n",
            "갱신인센티브(할인) : 41.32 %\n",
            "갱신인센티브(설계사독려) : 30.33 %\n"
          ]
        }
      ]
    },
    {
      "cell_type": "markdown",
      "source": [
        "### 판매채널"
      ],
      "metadata": {
        "id": "PLKZXaL0TBvP"
      }
    },
    {
      "cell_type": "code",
      "source": [
        "print(f'판매채널(대리점) :', round((len(cluster_2.loc[cluster_2['판매채널_대리점']==1, '판매채널_대리점']) / len(cluster_2['판매채널_대리점']))*100, 2), '%')\n",
        "print(f'판매채널(인터넷) :', round((len(cluster_2.loc[cluster_2['판매채널_인터넷']==1, '판매채널_인터넷']) / len(cluster_2['판매채널_인터넷']))*100, 2), '%')\n",
        "print(f'판매채널(자사영업) :', round((len(cluster_2.loc[cluster_2['판매채널_자사영업']==1, '판매채널_자사영업']) / len(cluster_2['판매채널_자사영업']))*100, 2), '%')\n",
        "print(f'판매채널(콜센터) :', round((len(cluster_2.loc[cluster_2['판매채널_콜센터']==1, '판매채널_콜센터']) / len(cluster_2['판매채널_콜센터']))*100, 2), '%')"
      ],
      "metadata": {
        "colab": {
          "base_uri": "https://localhost:8080/"
        },
        "outputId": "fe50b785-bbee-40f3-e48c-52dc65bebaee",
        "id": "AqQsZd-LTBvP"
      },
      "execution_count": null,
      "outputs": [
        {
          "output_type": "stream",
          "name": "stdout",
          "text": [
            "판매채널(대리점) : 38.87 %\n",
            "판매채널(인터넷) : 14.37 %\n",
            "판매채널(자사영업) : 27.11 %\n",
            "판매채널(콜센터) : 19.65 %\n"
          ]
        }
      ]
    },
    {
      "cell_type": "markdown",
      "source": [
        "### 자동차"
      ],
      "metadata": {
        "id": "4Olc_H4kTBvQ"
      }
    },
    {
      "cell_type": "code",
      "source": [
        "print(f'자동차(컴팩트카) :', round((len(cluster_2.loc[cluster_2['자동차_컴팩트카']==1, '자동차_컴팩트카']) / len(cluster_2['자동차_컴팩트카']))*100, 2), '%')\n",
        "print(f'자동차(일반세단) :', round((len(cluster_2.loc[cluster_2['자동차_일반세단']==1, '자동차_일반세단']) / len(cluster_2['자동차_일반세단']))*100, 2), '%')\n",
        "print(f'자동차(SUV) :', round((len(cluster_2.loc[cluster_2['자동차_SUV']==1, '자동차_SUV']) / len(cluster_2['자동차_SUV']))*100, 2), '%')\n",
        "print(f'자동차(스포츠카) :', round((len(cluster_2.loc[cluster_2['자동차_스포츠카']==1, '자동차_스포츠카']) / len(cluster_2['자동차_스포츠카']))*100, 2), '%')\n",
        "print(f'자동차(고급차) :', round((len(cluster_2.loc[cluster_2['자동차_고급차']==1, '자동차_고급차']) / len(cluster_2['자동차_고급차']))*100, 2), '%')"
      ],
      "metadata": {
        "colab": {
          "base_uri": "https://localhost:8080/"
        },
        "outputId": "4b74f9b1-f50b-4eb5-b69c-479ec938fe08",
        "id": "qZvp6QefTBvQ"
      },
      "execution_count": null,
      "outputs": [
        {
          "output_type": "stream",
          "name": "stdout",
          "text": [
            "자동차(컴팩트카) : 21.09 %\n",
            "자동차(일반세단) : 49.9 %\n",
            "자동차(SUV) : 19.69 %\n",
            "자동차(스포츠카) : 5.63 %\n",
            "자동차(고급차) : 3.69 %\n"
          ]
        }
      ]
    },
    {
      "cell_type": "markdown",
      "source": [
        "### 거주지사이즈"
      ],
      "metadata": {
        "id": "NpVgYCg4TBvQ"
      }
    },
    {
      "cell_type": "code",
      "source": [
        "print(f'거주지사이즈(대) :', round((len(cluster_2.loc[cluster_2['거주지사이즈_대']==1, '거주지사이즈_대']) / len(cluster_2['거주지사이즈_대']))*100, 2), '%')\n",
        "print(f'거주지사이즈(중) :', round((len(cluster_2.loc[cluster_2['거주지사이즈_중']==1, '거주지사이즈_중']) / len(cluster_2['거주지사이즈_중']))*100, 2), '%')\n",
        "print(f'거주지사이즈(소) :', round((len(cluster_2.loc[cluster_2['거주지사이즈_소']==1, '거주지사이즈_소']) / len(cluster_2['거주지사이즈_소']))*100, 2), '%')"
      ],
      "metadata": {
        "colab": {
          "base_uri": "https://localhost:8080/"
        },
        "outputId": "0e4aef52-e528-49c9-f5af-d8a63f3566a9",
        "id": "iEAoePP6TBvQ"
      },
      "execution_count": null,
      "outputs": [
        {
          "output_type": "stream",
          "name": "stdout",
          "text": [
            "거주지사이즈(대) : 10.21 %\n",
            "거주지사이즈(중) : 70.72 %\n",
            "거주지사이즈(소) : 19.07 %\n"
          ]
        }
      ]
    }
  ]
}
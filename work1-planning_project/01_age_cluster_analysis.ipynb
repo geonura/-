{
 "cells": [
  {
   "cell_type": "markdown",
   "id": "e5dbb0fb",
   "metadata": {},
   "source": [
    "## AGE별 K-평균 군집분석"
   ]
  },
  {
   "cell_type": "code",
   "execution_count": 2,
   "id": "696acb84",
   "metadata": {},
   "outputs": [
    {
     "name": "stderr",
     "output_type": "stream",
     "text": [
      "/opt/homebrew/Caskroom/miniconda/base/envs/portfolio/lib/python3.9/site-packages/sklearn/cluster/_kmeans.py:870: FutureWarning: The default value of `n_init` will change from 10 to 'auto' in 1.4. Set the value of `n_init` explicitly to suppress the warning\n",
      "  warnings.warn(\n",
      "/var/folders/xj/g808h2sx0cx0z219xzc0qk7r0000gn/T/ipykernel_27542/3480663272.py:16: ConvergenceWarning: Number of distinct clusters (6) found smaller than n_clusters (7). Possibly due to duplicate points in X.\n",
      "  kmeans.fit(age_data)\n"
     ]
    },
    {
     "data": {
      "text/plain": [
       "(array([[2.],\n",
       "        [4.],\n",
       "        [3.],\n",
       "        [1.],\n",
       "        [5.],\n",
       "        [6.],\n",
       "        [3.]]),\n",
       " (array([0, 1, 2, 3, 4, 5], dtype=int32),\n",
       "  array([1538, 3124, 4775, 1454, 1057,   52])))"
      ]
     },
     "execution_count": 2,
     "metadata": {},
     "output_type": "execute_result"
    }
   ],
   "source": [
    "import pandas as pd\n",
    "from sklearn.cluster import KMeans\n",
    "import numpy as np\n",
    "\n",
    "# Load the data\n",
    "file_path = '/Users/yujunwon/Work/customer_data_.csv'\n",
    "df = pd.read_csv(file_path, encoding='cp949')\n",
    "\n",
    "# Extract 'AGE' column and reshape it to 2D array for clustering\n",
    "age_data = df['AGE'].values.reshape(-1, 1)\n",
    "\n",
    "# Initialize KMeans model with 7 clusters\n",
    "kmeans = KMeans(n_clusters=7, random_state=42)\n",
    "\n",
    "# Fit the model to the 'AGE' data\n",
    "kmeans.fit(age_data)\n",
    "\n",
    "# Get the cluster centers and labels\n",
    "cluster_centers = kmeans.cluster_centers_\n",
    "cluster_labels = kmeans.labels_\n",
    "\n",
    "cluster_centers, np.unique(cluster_labels, return_counts=True)\n",
    "    "
   ]
  },
  {
   "cell_type": "markdown",
   "id": "1667577b",
   "metadata": {},
   "source": [
    "## 클러스터 시각화"
   ]
  },
  {
   "cell_type": "code",
   "execution_count": 3,
   "id": "1e30c4c4",
   "metadata": {},
   "outputs": [
    {
     "data": {
      "image/png": "[encoded data removed]",
      "text/plain": [
       "<Figure size 1000x600 with 1 Axes>"
      ]
     },
     "metadata": {},
     "output_type": "display_data"
    }
   ],
   "source": [
    "\n",
    "import matplotlib.pyplot as plt\n",
    "import seaborn as sns\n",
    "\n",
    "# Set up plotting style\n",
    "sns.set(style=\"whitegrid\")\n",
    "\n",
    "# Unique cluster labels and counts\n",
    "labels, counts = np.unique(cluster_labels, return_counts=True)\n",
    "\n",
    "# Plotting barplot\n",
    "plt.figure(figsize=(10,6))\n",
    "sns.barplot(x=labels + 1, y=counts, palette=\"viridis\")\n",
    "plt.title('Number of Data Points in Each Cluster')\n",
    "plt.xlabel('Cluster')\n",
    "plt.ylabel('Number of Data Points')\n",
    "plt.xticks(rotation=45)\n",
    "plt.show()\n",
    "    "
   ]
  },
  {
   "cell_type": "markdown",
   "id": "b57ff359",
   "metadata": {},
   "source": [
    "## 6번 클러스터 분석"
   ]
  },
  {
   "cell_type": "code",
   "execution_count": 4,
   "id": "b35639ab",
   "metadata": {},
   "outputs": [
    {
     "data": {
      "text/plain": [
       "(                        count unique    top freq            mean  \\\n",
       " clust                    52.0    NaN    NaN  NaN        0.923077   \n",
       " AGE                      52.0    NaN    NaN  NaN             6.0   \n",
       " 등록(계/피)                    52      2    계약자   34             NaN   \n",
       " 고용상태                       52      1     고용   52             NaN   \n",
       " 성별                       52.0    NaN    NaN  NaN        0.576923   \n",
       " Willingness to pay/Stay  52.0    NaN    NaN  NaN       13.659276   \n",
       " 갱신                       52.0    NaN    NaN  NaN        0.307692   \n",
       " 상품타입                       52      3     중급   27             NaN   \n",
       " 교육수준                       52      3   대학졸업   32             NaN   \n",
       " 소득                       52.0    NaN    NaN  NaN      75538750.0   \n",
       " 지역                         52      2   도시근교   51             NaN   \n",
       " 결혼여부                       52      2     기혼   38             NaN   \n",
       " 월 납입액                    52.0    NaN    NaN  NaN   199423.076923   \n",
       " VOC                      52.0    NaN    NaN  NaN        0.423077   \n",
       " 타 상품 보유 현황                 52      4      1   35             NaN   \n",
       " 온라인방문빈도                    52      3    비방문   31             NaN   \n",
       " 갱신인센티브                     52      4  설계사독려   26             NaN   \n",
       " 판매채널                       52      4    대리점   32             NaN   \n",
       " 총지불금액                    52.0    NaN    NaN  NaN  1243596.153846   \n",
       " 자동차                        52      3    고급차   29             NaN   \n",
       " 거주지사이즈                     52      3      중   24             NaN   \n",
       " \n",
       "                                     std         min         25%         50%  \\\n",
       " clust                          1.063589         0.0         0.0         1.0   \n",
       " AGE                                 0.0         6.0         6.0         6.0   \n",
       " 등록(계/피)                             NaN         NaN         NaN         NaN   \n",
       " 고용상태                                NaN         NaN         NaN         NaN   \n",
       " 성별                             0.498867         0.0         0.0         1.0   \n",
       " Willingness to pay/Stay       16.745735    4.242198    7.428397      8.7024   \n",
       " 갱신                             0.466041         0.0         0.0         0.0   \n",
       " 상품타입                                NaN         NaN         NaN         NaN   \n",
       " 교육수준                                NaN         NaN         NaN         NaN   \n",
       " 소득                       4806280.527397  70196000.0  71910250.0  75343500.0   \n",
       " 지역                                  NaN         NaN         NaN         NaN   \n",
       " 결혼여부                                NaN         NaN         NaN         NaN   \n",
       " 월 납입액                      57715.103591    100000.0    137500.0    210000.0   \n",
       " VOC                            0.871018         0.0         0.0         0.0   \n",
       " 타 상품 보유 현황                          NaN         NaN         NaN         NaN   \n",
       " 온라인방문빈도                             NaN         NaN         NaN         NaN   \n",
       " 갱신인센티브                              NaN         NaN         NaN         NaN   \n",
       " 판매채널                                NaN         NaN         NaN         NaN   \n",
       " 총지불금액                     205075.907478    968000.0   1090000.0   1179500.0   \n",
       " 자동차                                 NaN         NaN         NaN         NaN   \n",
       " 거주지사이즈                              NaN         NaN         NaN         NaN   \n",
       " \n",
       "                                 75%         max  \n",
       " clust                           1.0         4.0  \n",
       " AGE                             6.0         6.0  \n",
       " 등록(계/피)                         NaN         NaN  \n",
       " 고용상태                            NaN         NaN  \n",
       " 성별                              1.0         1.0  \n",
       " Willingness to pay/Stay   14.759337     92.4963  \n",
       " 갱신                              1.0         1.0  \n",
       " 상품타입                            NaN         NaN  \n",
       " 교육수준                            NaN         NaN  \n",
       " 소득                       78862775.0  89164900.0  \n",
       " 지역                              NaN         NaN  \n",
       " 결혼여부                            NaN         NaN  \n",
       " 월 납입액                      240000.0    300000.0  \n",
       " VOC                             0.0         3.0  \n",
       " 타 상품 보유 현황                      NaN         NaN  \n",
       " 온라인방문빈도                         NaN         NaN  \n",
       " 갱신인센티브                          NaN         NaN  \n",
       " 판매채널                            NaN         NaN  \n",
       " 총지불금액                     1369000.0   1716000.0  \n",
       " 자동차                             NaN         NaN  \n",
       " 거주지사이즈                          NaN         NaN  ,\n",
       " {'등록(계/피)': {'계약자': 0.6538461538461539, '피보험자': 0.34615384615384615},\n",
       "  '고용상태': {'고용': 1.0},\n",
       "  '상품타입': {'중급': 0.5192307692307693, '기본': 0.25, '고급': 0.23076923076923078},\n",
       "  '교육수준': {'대학졸업': 0.6153846153846154,\n",
       "   '고졸이하': 0.36538461538461536,\n",
       "   '박사': 0.019230769230769232},\n",
       "  '지역': {'도시근교': 0.9807692307692307, '도심': 0.019230769230769232},\n",
       "  '결혼여부': {'기혼': 0.7307692307692307, '미혼': 0.2692307692307692},\n",
       "  '타 상품 보유 현황': {'1': 0.6730769230769231,\n",
       "   '4이상': 0.19230769230769232,\n",
       "   '2': 0.11538461538461539,\n",
       "   '3': 0.019230769230769232},\n",
       "  '온라인방문빈도': {'비방문': 0.5961538461538461,\n",
       "   '자주방문': 0.34615384615384615,\n",
       "   '종종': 0.057692307692307696},\n",
       "  '갱신인센티브': {'설계사독려': 0.5,\n",
       "   '할인': 0.2692307692307692,\n",
       "   '없음': 0.1346153846153846,\n",
       "   '포인트': 0.09615384615384616},\n",
       "  '판매채널': {'대리점': 0.6153846153846154,\n",
       "   '자사영업': 0.17307692307692307,\n",
       "   '콜센터': 0.11538461538461539,\n",
       "   '인터넷': 0.09615384615384616},\n",
       "  '자동차': {'고급차': 0.5576923076923077,\n",
       "   'SUV': 0.23076923076923078,\n",
       "   '일반세단': 0.21153846153846154},\n",
       "  '거주지사이즈': {'중': 0.46153846153846156,\n",
       "   '소': 0.40384615384615385,\n",
       "   '대': 0.1346153846153846}})"
      ]
     },
     "execution_count": 4,
     "metadata": {},
     "output_type": "execute_result"
    }
   ],
   "source": [
    "\n",
    "# Extract rows where 'AGE' is 6\n",
    "age_6_df = df[df['AGE'] == 6]\n",
    "\n",
    "# Get descriptive statistics for 'AGE' == 6 subset\n",
    "age_6_descriptive_stats = age_6_df.describe(include='all').transpose()\n",
    "non_numeric_cols = age_6_df.select_dtypes(include=['object']).columns.tolist()\n",
    "\n",
    "# For non-numeric columns, calculate the frequency of each unique value\n",
    "value_counts = {}\n",
    "for col in non_numeric_cols:\n",
    "    value_counts[col] = age_6_df[col].value_counts(normalize=True).to_dict()\n",
    "\n",
    "age_6_descriptive_stats, value_counts\n",
    "    "
   ]
  }
 ],
 "metadata": {
  "kernelspec": {
   "display_name": "portfolio",
   "language": "python",
   "name": "python3"
  },
  "language_info": {
   "codemirror_mode": {
    "name": "ipython",
    "version": 3
   },
   "file_extension": ".py",
   "mimetype": "text/x-python",
   "name": "python",
   "nbconvert_exporter": "python",
   "pygments_lexer": "ipython3",
   "version": "3.9.16"
  }
 },
 "nbformat": 4,
 "nbformat_minor": 5
}
